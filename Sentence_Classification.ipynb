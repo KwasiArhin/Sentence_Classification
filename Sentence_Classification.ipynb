{
 "cells": [
  {
   "cell_type": "code",
   "execution_count": 1,
   "metadata": {},
   "outputs": [],
   "source": [
    "import numpy as np\n",
    "import pandas as pd\n",
    "import scipy\n",
    "import matplotlib.pyplot as plt\n",
    "import seaborn as sns\n",
    "%matplotlib inline\n",
    "import spacy\n",
    "from sklearn.model_selection import train_test_split\n",
    "from sklearn.ensemble import RandomForestClassifier\n",
    "from xgboost import XGBClassifier\n",
    "from sklearn.model_selection import cross_val_score, GridSearchCV\n",
    "from sklearn.metrics import confusion_matrix\n",
    "from sklearn.metrics import roc_auc_score, roc_curve, auc\n",
    "from scipy import interp\n",
    "from itertools import cycle\n",
    "import random\n",
    "import string\n",
    "\n",
    "from sklearn.model_selection import KFold\n",
    "from sklearn.model_selection import ParameterGrid\n",
    "from sklearn.multiclass import OneVsRestClassifier\n",
    "from sklearn.linear_model import LogisticRegression\n",
    "\n",
    "import warnings\n",
    "warnings.filterwarnings('ignore')"
   ]
  },
  {
   "cell_type": "markdown",
   "metadata": {},
   "source": [
    "## Background"
   ]
  },
  {
   "cell_type": "markdown",
   "metadata": {},
   "source": [
    "With thirty articles from biology, machine learning, and psychology at hand, our goal is to be able to classify sentences into five classes:\n",
    "\n",
    "- Aim (AIMX): the specific research goal of the paper\n",
    "- Own (OWNX): the author's own work, e.g. methods, results, conclusions\n",
    "- Contrast (CONT): contrast, comparison or critique of past work\n",
    "- Basis (BASE): past work that provides the basis for the work in the article\n",
    "- Misc (MISC): any other sentences"
   ]
  },
  {
   "cell_type": "markdown",
   "metadata": {},
   "source": [
    "To achieve this goal, we will convert our data set into tf idf matrix and train three classifiers: logistic regression (lasso and ridge), support vector machine classifier, and random forest classifier. We will evaluate these models and pick the best performing model."
   ]
  },
  {
   "cell_type": "markdown",
   "metadata": {},
   "source": [
    "# Part I. Data: Original Articles"
   ]
  },
  {
   "cell_type": "markdown",
   "metadata": {},
   "source": [
    "## I. Preprocessing"
   ]
  },
  {
   "cell_type": "markdown",
   "metadata": {},
   "source": [
    "### 1. Loading The Articles"
   ]
  },
  {
   "cell_type": "code",
   "execution_count": 2,
   "metadata": {},
   "outputs": [],
   "source": [
    "import os  \n",
    "path = '/Users/admin/Documents/SentenceCorpus/labeled_articles/'\n",
    "all_files = os.listdir(path)"
   ]
  },
  {
   "cell_type": "code",
   "execution_count": 3,
   "metadata": {},
   "outputs": [
    {
     "name": "stdout",
     "output_type": "stream",
     "text": [
      "['jdm_annotate3_120_1.txt', 'plos_annotate5_1375_2.txt', 'jdm_annotate2_107_1.txt', 'arxiv_annotate10_7_1.txt', 'plos_annotate5_1375_3.txt', 'plos_annotate10_1140_1.txt', 'plos_annotate10_1140_3.txt', 'plos_annotate5_1375_1.txt', 'jdm_annotate3_120_2.txt', 'jdm_annotate2_107_2.txt', 'arxiv_annotate10_7_3.txt', 'arxiv_annotate10_7_2.txt', 'jdm_annotate2_107_3.txt', 'jdm_annotate3_120_3.txt', 'plos_annotate10_1140_2.txt', 'plos_annotate7_1233_1.txt', 'arxiv_annotate7_268_3.txt', '.DS_Store', 'jdm_annotate4_220_3.txt', 'jdm_annotate4_220_2.txt', 'arxiv_annotate9_279_1.txt', 'arxiv_annotate7_268_2.txt', 'plos_annotate8_123_1.txt', 'plos_annotate7_1233_2.txt', 'plos_annotate8_123_3.txt', 'arxiv_annotate9_279_3.txt', 'jdm_annotate4_220_1.txt', 'arxiv_annotate9_279_2.txt', 'arxiv_annotate7_268_1.txt', 'plos_annotate8_123_2.txt', 'plos_annotate7_1233_3.txt', 'jdm_annotate10_210_3.txt', 'arxiv_annotate5_240_1.txt', 'jdm_annotate10_210_2.txt', 'arxiv_annotate5_240_2.txt', 'arxiv_annotate5_240_3.txt', 'jdm_annotate10_210_1.txt', 'plos_annotate9_1187_2.txt', 'plos_annotate1_6_3.txt', 'plos_annotate9_1187_3.txt', 'plos_annotate1_6_2.txt', 'plos_annotate9_1187_1.txt', 'plos_annotate1_6_1.txt', 'arxiv_annotate1_13_1.txt', 'arxiv_annotate2_66_3.txt', 'arxiv_annotate2_66_2.txt', 'arxiv_annotate3_80_1.txt', 'arxiv_annotate3_80_3.txt', 'arxiv_annotate1_13_2.txt', 'arxiv_annotate2_66_1.txt', 'arxiv_annotate1_13_3.txt', 'arxiv_annotate3_80_2.txt', 'arxiv_annotate4_168_1.txt', 'jdm_annotate8_177_3.txt', 'jdm_annotate5_228_3.txt', 'plos_annotate4_1052_1.txt', 'jdm_annotate9_45_2.txt', 'plos_annotate6_1032_2.txt', 'plos_annotate6_1032_3.txt', 'jdm_annotate9_45_3.txt', 'jdm_annotate5_228_2.txt', 'jdm_annotate8_177_2.txt', 'arxiv_annotate4_168_2.txt', 'plos_annotate4_1052_2.txt', 'jdm_annotate9_45_1.txt', 'plos_annotate6_1032_1.txt', 'plos_annotate4_1052_3.txt', 'jdm_annotate5_228_1.txt', 'jdm_annotate8_177_1.txt', 'arxiv_annotate4_168_3.txt', 'plos_annotate2_336_1.txt', 'jdm_annotate6_32_1.txt', 'arxiv_annotate6_52_3.txt', 'arxiv_annotate6_52_2.txt', 'arxiv_annotate8_81_1.txt', 'plos_annotate2_336_2.txt', 'arxiv_annotate8_81_3.txt', 'jdm_annotate6_32_2.txt', 'arxiv_annotate6_52_1.txt', 'jdm_annotate6_32_3.txt', 'arxiv_annotate8_81_2.txt', 'plos_annotate2_336_3.txt', 'plos_annotate3_798_2.txt', 'jdm_annotate7_265_2.txt', 'jdm_annotate1_103_2.txt', 'jdm_annotate1_103_3.txt', 'jdm_annotate7_265_3.txt', 'plos_annotate3_798_3.txt', 'plos_annotate3_798_1.txt', 'jdm_annotate7_265_1.txt', 'jdm_annotate1_103_1.txt']\n"
     ]
    }
   ],
   "source": [
    "print(all_files)"
   ]
  },
  {
   "cell_type": "code",
   "execution_count": 4,
   "metadata": {},
   "outputs": [],
   "source": [
    "all_files = [file for file in all_files if file != '.DS_Store']"
   ]
  },
  {
   "cell_type": "code",
   "execution_count": 5,
   "metadata": {},
   "outputs": [],
   "source": [
    "articles = pd.DataFrame(np.zeros(4000))\n",
    "num = 0\n",
    "\n",
    "for file in all_files: \n",
    "    doc = open(path+file)\n",
    "    read = doc.readlines()\n",
    "    end = len(read)\n",
    "    new_array = np.array([[line] for line in read if (line != '### abstract ###\\n' and line != '### introduction ###\\n')])\n",
    "    end = len(new_array)-1\n",
    "    articles.loc[num:num+end] = new_array\n",
    "    num+=end\n",
    "       "
   ]
  },
  {
   "cell_type": "code",
   "execution_count": 6,
   "metadata": {},
   "outputs": [],
   "source": [
    "articles = articles[articles[0]!= 0]"
   ]
  },
  {
   "cell_type": "code",
   "execution_count": 7,
   "metadata": {},
   "outputs": [
    {
     "data": {
      "text/html": [
       "<div>\n",
       "<style scoped>\n",
       "    .dataframe tbody tr th:only-of-type {\n",
       "        vertical-align: middle;\n",
       "    }\n",
       "\n",
       "    .dataframe tbody tr th {\n",
       "        vertical-align: top;\n",
       "    }\n",
       "\n",
       "    .dataframe thead th {\n",
       "        text-align: right;\n",
       "    }\n",
       "</style>\n",
       "<table border=\"1\" class=\"dataframe\">\n",
       "  <thead>\n",
       "    <tr style=\"text-align: right;\">\n",
       "      <th></th>\n",
       "      <th>0</th>\n",
       "    </tr>\n",
       "  </thead>\n",
       "  <tbody>\n",
       "    <tr>\n",
       "      <th>0</th>\n",
       "      <td>AIMX\\twe test in the context of a dictator gam...</td>\n",
       "    </tr>\n",
       "    <tr>\n",
       "      <th>1</th>\n",
       "      <td>OWNX\\twe manipulated the likelihood that indiv...</td>\n",
       "    </tr>\n",
       "    <tr>\n",
       "      <th>2</th>\n",
       "      <td>OWNX\\tour analysis reveals a positive and sign...</td>\n",
       "    </tr>\n",
       "    <tr>\n",
       "      <th>3</th>\n",
       "      <td>OWNX\\tthe magnitude of the effect is of econom...</td>\n",
       "    </tr>\n",
       "    <tr>\n",
       "      <th>4</th>\n",
       "      <td>OWNX\\twe conclude that subtle cues might prove...</td>\n",
       "    </tr>\n",
       "  </tbody>\n",
       "</table>\n",
       "</div>"
      ],
      "text/plain": [
       "                                                   0\n",
       "0  AIMX\\twe test in the context of a dictator gam...\n",
       "1  OWNX\\twe manipulated the likelihood that indiv...\n",
       "2  OWNX\\tour analysis reveals a positive and sign...\n",
       "3  OWNX\\tthe magnitude of the effect is of econom...\n",
       "4  OWNX\\twe conclude that subtle cues might prove..."
      ]
     },
     "execution_count": 7,
     "metadata": {},
     "output_type": "execute_result"
    }
   ],
   "source": [
    "articles.head()"
   ]
  },
  {
   "cell_type": "code",
   "execution_count": 8,
   "metadata": {},
   "outputs": [
    {
     "data": {
      "text/plain": [
       "(3028, 1)"
      ]
     },
     "execution_count": 8,
     "metadata": {},
     "output_type": "execute_result"
    }
   ],
   "source": [
    "articles.shape"
   ]
  },
  {
   "cell_type": "markdown",
   "metadata": {},
   "source": [
    "### 2. Cleaning The Sentences"
   ]
  },
  {
   "cell_type": "code",
   "execution_count": 9,
   "metadata": {},
   "outputs": [],
   "source": [
    "import re\n",
    "\n",
    "pattern = re.compile(r'\\b[A-Z]+\\b')"
   ]
  },
  {
   "cell_type": "code",
   "execution_count": 10,
   "metadata": {},
   "outputs": [],
   "source": [
    "def splitter(row):\n",
    "    pattern = re.compile(r'\\b[A-Z]+\\b')   \n",
    "    #if the article follows the \\t format\n",
    "    try:\n",
    "        first_part, second_part = row[0].split('\\t')\n",
    "        \n",
    "    #if the article doesn't follow the \\t format\n",
    "    except (ValueError, TypeError):\n",
    "        #match the pattern and extract the index\n",
    "        #print(pattern.match(list(row)[0]).span()[1])\n",
    "        div_index = pattern.match(list(row)[0]).span()[1]\n",
    "        first_part, second_part = row[0][:div_index], row[0][div_index+1:]\n",
    "    print('ONE!!!', first_part, 'TWO!!!!', second_part)\n",
    "    return second_part, first_part"
   ]
  },
  {
   "cell_type": "code",
   "execution_count": 11,
   "metadata": {},
   "outputs": [],
   "source": [
    "labels = []\n",
    "texts = []\n",
    "for row in articles[0]:\n",
    "    try:\n",
    "        first_part, second_part = row.split('\\t')\n",
    "        \n",
    "    #if the article doesn't follow the \\t format\n",
    "    except (ValueError, TypeError):\n",
    "        #match the pattern and extract the index\n",
    "        div_index = pattern.match(row).span()[1]\n",
    "        first_part, second_part = row[:div_index], row[div_index+1:]\n",
    "    labels.append(first_part.strip())\n",
    "    texts.append(second_part.strip())"
   ]
  },
  {
   "cell_type": "code",
   "execution_count": 12,
   "metadata": {},
   "outputs": [
    {
     "data": {
      "text/plain": [
       "3028"
      ]
     },
     "execution_count": 12,
     "metadata": {},
     "output_type": "execute_result"
    }
   ],
   "source": [
    "len(labels)"
   ]
  },
  {
   "cell_type": "code",
   "execution_count": 13,
   "metadata": {},
   "outputs": [],
   "source": [
    "articles['texts'] = texts\n",
    "articles['labels'] = labels"
   ]
  },
  {
   "cell_type": "code",
   "execution_count": 14,
   "metadata": {},
   "outputs": [
    {
     "data": {
      "text/html": [
       "<div>\n",
       "<style scoped>\n",
       "    .dataframe tbody tr th:only-of-type {\n",
       "        vertical-align: middle;\n",
       "    }\n",
       "\n",
       "    .dataframe tbody tr th {\n",
       "        vertical-align: top;\n",
       "    }\n",
       "\n",
       "    .dataframe thead th {\n",
       "        text-align: right;\n",
       "    }\n",
       "</style>\n",
       "<table border=\"1\" class=\"dataframe\">\n",
       "  <thead>\n",
       "    <tr style=\"text-align: right;\">\n",
       "      <th></th>\n",
       "      <th>0</th>\n",
       "      <th>texts</th>\n",
       "      <th>labels</th>\n",
       "    </tr>\n",
       "  </thead>\n",
       "  <tbody>\n",
       "    <tr>\n",
       "      <th>0</th>\n",
       "      <td>AIMX\\twe test in the context of a dictator gam...</td>\n",
       "      <td>we test in the context of a dictator game the ...</td>\n",
       "      <td>AIMX</td>\n",
       "    </tr>\n",
       "    <tr>\n",
       "      <th>1</th>\n",
       "      <td>OWNX\\twe manipulated the likelihood that indiv...</td>\n",
       "      <td>we manipulated the likelihood that individuals...</td>\n",
       "      <td>OWNX</td>\n",
       "    </tr>\n",
       "    <tr>\n",
       "      <th>2</th>\n",
       "      <td>OWNX\\tour analysis reveals a positive and sign...</td>\n",
       "      <td>our analysis reveals a positive and significan...</td>\n",
       "      <td>OWNX</td>\n",
       "    </tr>\n",
       "    <tr>\n",
       "      <th>3</th>\n",
       "      <td>OWNX\\tthe magnitude of the effect is of econom...</td>\n",
       "      <td>the magnitude of the effect is of economic sig...</td>\n",
       "      <td>OWNX</td>\n",
       "    </tr>\n",
       "    <tr>\n",
       "      <th>4</th>\n",
       "      <td>OWNX\\twe conclude that subtle cues might prove...</td>\n",
       "      <td>we conclude that subtle cues might prove suffi...</td>\n",
       "      <td>OWNX</td>\n",
       "    </tr>\n",
       "  </tbody>\n",
       "</table>\n",
       "</div>"
      ],
      "text/plain": [
       "                                                   0  \\\n",
       "0  AIMX\\twe test in the context of a dictator gam...   \n",
       "1  OWNX\\twe manipulated the likelihood that indiv...   \n",
       "2  OWNX\\tour analysis reveals a positive and sign...   \n",
       "3  OWNX\\tthe magnitude of the effect is of econom...   \n",
       "4  OWNX\\twe conclude that subtle cues might prove...   \n",
       "\n",
       "                                               texts labels  \n",
       "0  we test in the context of a dictator game the ...   AIMX  \n",
       "1  we manipulated the likelihood that individuals...   OWNX  \n",
       "2  our analysis reveals a positive and significan...   OWNX  \n",
       "3  the magnitude of the effect is of economic sig...   OWNX  \n",
       "4  we conclude that subtle cues might prove suffi...   OWNX  "
      ]
     },
     "execution_count": 14,
     "metadata": {},
     "output_type": "execute_result"
    }
   ],
   "source": [
    "articles.head()"
   ]
  },
  {
   "cell_type": "code",
   "execution_count": 15,
   "metadata": {},
   "outputs": [
    {
     "data": {
      "text/plain": [
       "3028"
      ]
     },
     "execution_count": 15,
     "metadata": {},
     "output_type": "execute_result"
    }
   ],
   "source": [
    "len(texts)"
   ]
  },
  {
   "cell_type": "markdown",
   "metadata": {},
   "source": [
    "### 3. Unique Data - Removal of Duplicate Sentences"
   ]
  },
  {
   "cell_type": "markdown",
   "metadata": {},
   "source": [
    "It turns out that a large portion of the sentences appears in more than one article. For more accurate modelling, we will remove all such sentences from the data set."
   ]
  },
  {
   "cell_type": "code",
   "execution_count": 16,
   "metadata": {},
   "outputs": [
    {
     "data": {
      "text/plain": [
       "1293"
      ]
     },
     "execution_count": 16,
     "metadata": {},
     "output_type": "execute_result"
    }
   ],
   "source": [
    "#apparently not all sentences in our data set are unique\n",
    "articles['texts'].nunique()"
   ]
  },
  {
   "cell_type": "code",
   "execution_count": 17,
   "metadata": {},
   "outputs": [],
   "source": [
    "articles = articles.iloc[:, 1:]"
   ]
  },
  {
   "cell_type": "code",
   "execution_count": 18,
   "metadata": {},
   "outputs": [
    {
     "data": {
      "text/plain": [
       "texts     1293\n",
       "labels       5\n",
       "dtype: int64"
      ]
     },
     "execution_count": 18,
     "metadata": {},
     "output_type": "execute_result"
    }
   ],
   "source": [
    "articles.nunique()"
   ]
  },
  {
   "cell_type": "code",
   "execution_count": 19,
   "metadata": {},
   "outputs": [],
   "source": [
    "no_dup_articles = articles.drop_duplicates(subset=['texts'])"
   ]
  },
  {
   "cell_type": "code",
   "execution_count": 20,
   "metadata": {},
   "outputs": [
    {
     "data": {
      "text/plain": [
       "texts     1293\n",
       "labels       5\n",
       "dtype: int64"
      ]
     },
     "execution_count": 20,
     "metadata": {},
     "output_type": "execute_result"
    }
   ],
   "source": [
    "no_dup_articles.nunique()"
   ]
  },
  {
   "cell_type": "markdown",
   "metadata": {},
   "source": [
    "## II. Preparation for Modelling"
   ]
  },
  {
   "cell_type": "markdown",
   "metadata": {},
   "source": [
    "### 1. Train Test Split"
   ]
  },
  {
   "cell_type": "code",
   "execution_count": 21,
   "metadata": {},
   "outputs": [],
   "source": [
    "X = no_dup_articles['texts']\n",
    "y=no_dup_articles['labels']\n",
    "\n",
    "X_train, X_test, y_train, y_test = train_test_split(X, y, test_size=0.3, random_state=108)"
   ]
  },
  {
   "cell_type": "code",
   "execution_count": 22,
   "metadata": {},
   "outputs": [
    {
     "data": {
      "text/plain": [
       "905"
      ]
     },
     "execution_count": 22,
     "metadata": {},
     "output_type": "execute_result"
    }
   ],
   "source": [
    "len(X_train)"
   ]
  },
  {
   "cell_type": "code",
   "execution_count": 23,
   "metadata": {},
   "outputs": [
    {
     "data": {
      "text/plain": [
       "388"
      ]
     },
     "execution_count": 23,
     "metadata": {},
     "output_type": "execute_result"
    }
   ],
   "source": [
    "len(X_test)"
   ]
  },
  {
   "cell_type": "markdown",
   "metadata": {},
   "source": [
    "### 2. Class Imbalance"
   ]
  },
  {
   "cell_type": "code",
   "execution_count": 24,
   "metadata": {},
   "outputs": [
    {
     "data": {
      "text/plain": [
       "(array(['AIMX', 'BASE', 'CONT', 'MISC', 'OWNX'], dtype=object),\n",
       " array([ 61,  21,  51, 535, 237]))"
      ]
     },
     "execution_count": 24,
     "metadata": {},
     "output_type": "execute_result"
    }
   ],
   "source": [
    "np.unique(y_train, return_counts=True)"
   ]
  },
  {
   "cell_type": "code",
   "execution_count": 25,
   "metadata": {},
   "outputs": [
    {
     "data": {
      "image/png": "[encoded data removed]",
      "text/plain": [
       "<Figure size 1080x504 with 1 Axes>"
      ]
     },
     "metadata": {
      "needs_background": "light"
     },
     "output_type": "display_data"
    }
   ],
   "source": [
    "plt.figure(figsize=(15,7))\n",
    "\n",
    "sns.countplot(x=y_train)\n",
    "plt.title('Sentences By Label')\n",
    "plt.xlabel('Sentence Labels In The Training Set')\n",
    "plt.ylabel('Counts')\n",
    "plt.show()"
   ]
  },
  {
   "cell_type": "code",
   "execution_count": 26,
   "metadata": {},
   "outputs": [],
   "source": [
    "#preprocessing the texts\n",
    "\n",
    "nlp = spacy.load('en')\n",
    "\n",
    "# since we have a rather small corpus, it makes sense to lemmatize all words\n",
    "\n",
    "def processor(data, lemmatize=True):\n",
    "    lemmas = []\n",
    "    for entry in data:\n",
    "        entry_parsed = nlp(entry)\n",
    "        string = ''\n",
    "        for token in entry_parsed:\n",
    "            if (not token.is_punct\n",
    "                and not token.is_stop): # remove all the stop words\n",
    "                 \n",
    "                if lemmatize ==True:\n",
    "                    string += token.lemma_ + ' '\n",
    "                else:\n",
    "                    string += str(token)+ ' '\n",
    "                string = string.replace('-', '')\n",
    "                string = string.replace('PRON', '')\n",
    "                \n",
    "        lemmas.append(string.rstrip())\n",
    " \n",
    "    return lemmas"
   ]
  },
  {
   "cell_type": "code",
   "execution_count": 27,
   "metadata": {},
   "outputs": [],
   "source": [
    "X_train_processed = processor(X_train)"
   ]
  },
  {
   "cell_type": "code",
   "execution_count": 28,
   "metadata": {},
   "outputs": [
    {
     "data": {
      "text/plain": [
       "['importantly iapp rodent specie rat mouse iapp lose capacity aggregate amyloid fibril citation transgenic mouse model express human iapp develop islet deposit citation',\n",
       " ' obvious proof paper conditionaliz',\n",
       " 'case low likelihood slope expect weakly positive',\n",
       " 'furthermore convert mathematical model quantitatively integrate gene expression datum reaction constraint compute functional network state compare report experimental datum',\n",
       " 'in paper introduce radically new approach base machine learning technique map ases internet natural as taxonomy']"
      ]
     },
     "execution_count": 28,
     "metadata": {},
     "output_type": "execute_result"
    }
   ],
   "source": [
    "X_train_processed[:5]"
   ]
  },
  {
   "cell_type": "code",
   "execution_count": 29,
   "metadata": {},
   "outputs": [],
   "source": [
    "X_test_processed = processor(X_test)"
   ]
  },
  {
   "cell_type": "markdown",
   "metadata": {},
   "source": [
    "### 3. One-Hot Encoding for Classes"
   ]
  },
  {
   "cell_type": "code",
   "execution_count": 30,
   "metadata": {},
   "outputs": [],
   "source": [
    "# We will need to encode classes as numbers.\n",
    "from sklearn.preprocessing import LabelEncoder\n",
    "\n",
    "encoder = LabelEncoder()\n",
    "\n",
    "y_train_encoded = encoder.fit_transform(y_train)\n",
    "y_test_encoded = encoder.transform(y_test)"
   ]
  },
  {
   "cell_type": "markdown",
   "metadata": {},
   "source": [
    "### 4. Oversampling"
   ]
  },
  {
   "cell_type": "markdown",
   "metadata": {},
   "source": [
    "We are dealing with class imbalance. Since our data set is rather small, it would be challenging to use undersampling. Alternatively, we could use oversampling of the underrepresented classes."
   ]
  },
  {
   "cell_type": "code",
   "execution_count": 31,
   "metadata": {},
   "outputs": [],
   "source": [
    "X_train_concat = pd.DataFrame({'texts': X_train_processed, 'classes': y_train_encoded})"
   ]
  },
  {
   "cell_type": "code",
   "execution_count": 32,
   "metadata": {},
   "outputs": [
    {
     "data": {
      "text/html": [
       "<div>\n",
       "<style scoped>\n",
       "    .dataframe tbody tr th:only-of-type {\n",
       "        vertical-align: middle;\n",
       "    }\n",
       "\n",
       "    .dataframe tbody tr th {\n",
       "        vertical-align: top;\n",
       "    }\n",
       "\n",
       "    .dataframe thead th {\n",
       "        text-align: right;\n",
       "    }\n",
       "</style>\n",
       "<table border=\"1\" class=\"dataframe\">\n",
       "  <thead>\n",
       "    <tr style=\"text-align: right;\">\n",
       "      <th></th>\n",
       "      <th>texts</th>\n",
       "      <th>classes</th>\n",
       "    </tr>\n",
       "  </thead>\n",
       "  <tbody>\n",
       "    <tr>\n",
       "      <th>0</th>\n",
       "      <td>importantly iapp rodent specie rat mouse iapp ...</td>\n",
       "      <td>3</td>\n",
       "    </tr>\n",
       "    <tr>\n",
       "      <th>1</th>\n",
       "      <td>obvious proof paper conditionaliz</td>\n",
       "      <td>4</td>\n",
       "    </tr>\n",
       "    <tr>\n",
       "      <th>2</th>\n",
       "      <td>case low likelihood slope expect weakly positive</td>\n",
       "      <td>4</td>\n",
       "    </tr>\n",
       "    <tr>\n",
       "      <th>3</th>\n",
       "      <td>furthermore convert mathematical model quantit...</td>\n",
       "      <td>4</td>\n",
       "    </tr>\n",
       "    <tr>\n",
       "      <th>4</th>\n",
       "      <td>in paper introduce radically new approach base...</td>\n",
       "      <td>0</td>\n",
       "    </tr>\n",
       "  </tbody>\n",
       "</table>\n",
       "</div>"
      ],
      "text/plain": [
       "                                               texts  classes\n",
       "0  importantly iapp rodent specie rat mouse iapp ...        3\n",
       "1                  obvious proof paper conditionaliz        4\n",
       "2   case low likelihood slope expect weakly positive        4\n",
       "3  furthermore convert mathematical model quantit...        4\n",
       "4  in paper introduce radically new approach base...        0"
      ]
     },
     "execution_count": 32,
     "metadata": {},
     "output_type": "execute_result"
    }
   ],
   "source": [
    "X_train_concat.head()"
   ]
  },
  {
   "cell_type": "code",
   "execution_count": 33,
   "metadata": {},
   "outputs": [
    {
     "data": {
      "text/plain": [
       "(array([0, 1, 2, 3, 4]), array([ 61,  21,  51, 535, 237]))"
      ]
     },
     "execution_count": 33,
     "metadata": {},
     "output_type": "execute_result"
    }
   ],
   "source": [
    "np.unique(X_train_concat['classes'], return_counts=True)"
   ]
  },
  {
   "cell_type": "code",
   "execution_count": 34,
   "metadata": {},
   "outputs": [],
   "source": [
    "# resampling data to tackle class imbalance\n",
    "\n",
    "X_train_zero = (X_train_concat[X_train_concat['classes']==0]).sample(535, random_state=108, replace=True)\n",
    "X_train_one = (X_train_concat[X_train_concat['classes']==1]).sample(535, random_state=108, replace=True)\n",
    "X_train_two = (X_train_concat[X_train_concat['classes']==2]).sample(535, random_state=108, replace=True)\n",
    "X_train_three = X_train_concat[X_train_concat['classes']==3]\n",
    "X_train_four = (X_train_concat[X_train_concat['classes']==4]).sample(535, random_state=108, replace=True)"
   ]
  },
  {
   "cell_type": "code",
   "execution_count": 35,
   "metadata": {},
   "outputs": [],
   "source": [
    "X_train_balanced_over = pd.concat([X_train_zero\n",
    "                                  ,X_train_one\n",
    "                                  ,X_train_two\n",
    "                                  ,X_train_three \n",
    "                                  ,X_train_four], axis=0, ignore_index=True)"
   ]
  },
  {
   "cell_type": "code",
   "execution_count": 36,
   "metadata": {},
   "outputs": [
    {
     "data": {
      "text/plain": [
       "(2675, 2)"
      ]
     },
     "execution_count": 36,
     "metadata": {},
     "output_type": "execute_result"
    }
   ],
   "source": [
    "X_train_balanced_over.shape"
   ]
  },
  {
   "cell_type": "code",
   "execution_count": 37,
   "metadata": {},
   "outputs": [],
   "source": [
    "X_train_balanced_over = X_train_balanced_over.sample(2675)"
   ]
  },
  {
   "cell_type": "code",
   "execution_count": 38,
   "metadata": {},
   "outputs": [],
   "source": [
    "y_train_balanced_over = X_train_balanced_over ['classes']"
   ]
  },
  {
   "cell_type": "code",
   "execution_count": 39,
   "metadata": {},
   "outputs": [
    {
     "data": {
      "text/plain": [
       "(array([0, 1, 2, 3, 4]), array([535, 535, 535, 535, 535]))"
      ]
     },
     "execution_count": 39,
     "metadata": {},
     "output_type": "execute_result"
    }
   ],
   "source": [
    "np.unique(X_train_balanced_over['classes'], return_counts=True)"
   ]
  },
  {
   "cell_type": "markdown",
   "metadata": {},
   "source": [
    "### 5. Binarize The Training and Test Target Variables"
   ]
  },
  {
   "cell_type": "code",
   "execution_count": 40,
   "metadata": {},
   "outputs": [],
   "source": [
    "# binarization necessary for roc_auc curve \n",
    "from sklearn.preprocessing import label_binarize\n",
    "y_tr_binary = label_binarize(y_train_balanced_over , classes =[0, 1, 2, 3, 4])\n",
    "y_test_binary = label_binarize(y_test_encoded, classes =[0, 1, 2, 3, 4])"
   ]
  },
  {
   "cell_type": "markdown",
   "metadata": {},
   "source": [
    "### 6. Feature Generation: TF IDF Matrix"
   ]
  },
  {
   "cell_type": "code",
   "execution_count": 41,
   "metadata": {},
   "outputs": [],
   "source": [
    "from sklearn.feature_extraction.text import TfidfVectorizer\n",
    "\n",
    "vectorizer_over = TfidfVectorizer(max_df=0.8, \n",
    "                             min_df=7, \n",
    "                             stop_words='english', \n",
    "                             lowercase=True, \n",
    "                             use_idf=True,\n",
    "                             norm=u'l2',\n",
    "                             smooth_idf=True\n",
    "                            )"
   ]
  },
  {
   "cell_type": "code",
   "execution_count": 42,
   "metadata": {},
   "outputs": [
    {
     "data": {
      "text/plain": [
       "885     in study extend refined early work allen et al...\n",
       "2354         game pit pro social motivation self interest\n",
       "663     to accomplish propose sparse variant indian bu...\n",
       "2503     stochastic gating axonal dendritic ion channe...\n",
       "1981    504 possible variant enumerate 62 study detail...\n",
       "Name: texts, dtype: object"
      ]
     },
     "execution_count": 42,
     "metadata": {},
     "output_type": "execute_result"
    }
   ],
   "source": [
    "X_train_balanced_over['texts'].head()"
   ]
  },
  {
   "cell_type": "code",
   "execution_count": 43,
   "metadata": {},
   "outputs": [
    {
     "name": "stdout",
     "output_type": "stream",
     "text": [
      "Number of features: 959\n"
     ]
    }
   ],
   "source": [
    "X_train_tfidf_over=vectorizer_over.fit_transform(X_train_balanced_over['texts'])\n",
    "\n",
    "print(\"Number of features: %d\" % X_train_tfidf_over.get_shape()[1])"
   ]
  },
  {
   "cell_type": "code",
   "execution_count": 44,
   "metadata": {},
   "outputs": [],
   "source": [
    "X_test_tfidf_over = vectorizer_over.transform(X_test_processed)"
   ]
  },
  {
   "cell_type": "code",
   "execution_count": 45,
   "metadata": {},
   "outputs": [],
   "source": [
    "vectorizer_reg = TfidfVectorizer(max_df=0.8, \n",
    "                             min_df=7, \n",
    "                             stop_words='english', \n",
    "                             lowercase=True, \n",
    "                             use_idf=True,\n",
    "                             norm=u'l2',\n",
    "                             smooth_idf=True\n",
    "                            )"
   ]
  },
  {
   "cell_type": "code",
   "execution_count": 46,
   "metadata": {},
   "outputs": [
    {
     "name": "stdout",
     "output_type": "stream",
     "text": [
      "Number of features: 461\n"
     ]
    }
   ],
   "source": [
    "X_train_tfidf_reg=vectorizer_reg.fit_transform(X_train_processed)\n",
    "\n",
    "print(\"Number of features: %d\" % X_train_tfidf_reg.get_shape()[1])"
   ]
  },
  {
   "cell_type": "code",
   "execution_count": 47,
   "metadata": {},
   "outputs": [],
   "source": [
    "X_test_tfidf_reg = vectorizer_reg.transform(X_test_processed)"
   ]
  },
  {
   "cell_type": "markdown",
   "metadata": {},
   "source": [
    "## III. Training Classifiers"
   ]
  },
  {
   "cell_type": "markdown",
   "metadata": {},
   "source": [
    "The hyperparameters for each classifier hyperparameters will be selected based on cross-validation."
   ]
  },
  {
   "cell_type": "markdown",
   "metadata": {},
   "source": [
    "### 1. Logistic Regression"
   ]
  },
  {
   "cell_type": "markdown",
   "metadata": {},
   "source": [
    "### a) Parameter Finetuning on The Training Set"
   ]
  },
  {
   "cell_type": "code",
   "execution_count": 48,
   "metadata": {},
   "outputs": [],
   "source": [
    "kf = KFold(n_splits = 5, random_state=108)\n",
    "accross_folds = []\n",
    "\n",
    "param_grid = {'penalty': ['l1', 'l2'],\n",
    "             'C': [1e-3,1e-2,1e-1,1,1e1,1e2]}\n",
    "\n",
    "grid = ParameterGrid(param_grid)\n",
    "parameters = []\n",
    "scores = []\n",
    "\n",
    "for params in grid:\n",
    "    accross_folds = []\n",
    "    for train_index, test_index in kf.split(X_train_tfidf_over):\n",
    "        X_train, X_test = X_train_tfidf_over[train_index], X_train_tfidf_over[test_index]\n",
    "        y_train, y_test = y_tr_binary[train_index], y_tr_binary[test_index]\n",
    "        logistic = OneVsRestClassifier(LogisticRegression(**params))\n",
    "        y_score = logistic.fit(X_train, y_train).predict_proba(X_test)\n",
    "        fpr = dict()\n",
    "        tpr = dict()\n",
    "        roc_auc = dict()\n",
    "        n_classes = 5\n",
    "        for i in range(n_classes):\n",
    "            fpr[i], tpr[i], _ = roc_curve(y_test[:, i], y_score[:, i])\n",
    "            roc_auc[i] = auc(fpr[i], tpr[i])\n",
    "\n",
    "       \n",
    "\n",
    "        all_fpr = np.unique(np.concatenate([fpr[i] for i in range(n_classes)]))\n",
    "\n",
    "        # Then interpolate all ROC curves at this points\n",
    "        mean_tpr = np.zeros_like(all_fpr)\n",
    "        for i in range(n_classes):\n",
    "            mean_tpr += interp(all_fpr, fpr[i], tpr[i])\n",
    "\n",
    "        # Finally average it and compute AUC\n",
    "        mean_tpr /= n_classes\n",
    "\n",
    "        fpr[\"macro\"] = all_fpr\n",
    "        tpr[\"macro\"] = mean_tpr\n",
    "        roc_auc[\"macro\"] = auc(fpr[\"macro\"], tpr[\"macro\"])\n",
    "        #roc_auc_score = roc_auc_score(y_test, y_score, average='weighted')\n",
    "        accross_folds.append(roc_auc[\"macro\"])\n",
    "    parameters.append(params)\n",
    "    scores.append(np.mean(accross_folds))"
   ]
  },
  {
   "cell_type": "code",
   "execution_count": 49,
   "metadata": {},
   "outputs": [
    {
     "data": {
      "text/html": [
       "<div>\n",
       "<style scoped>\n",
       "    .dataframe tbody tr th:only-of-type {\n",
       "        vertical-align: middle;\n",
       "    }\n",
       "\n",
       "    .dataframe tbody tr th {\n",
       "        vertical-align: top;\n",
       "    }\n",
       "\n",
       "    .dataframe thead th {\n",
       "        text-align: right;\n",
       "    }\n",
       "</style>\n",
       "<table border=\"1\" class=\"dataframe\">\n",
       "  <thead>\n",
       "    <tr style=\"text-align: right;\">\n",
       "      <th></th>\n",
       "      <th>roc_auc</th>\n",
       "      <th>Cs</th>\n",
       "    </tr>\n",
       "  </thead>\n",
       "  <tbody>\n",
       "    <tr>\n",
       "      <th>9</th>\n",
       "      <td>0.984876</td>\n",
       "      <td>{'C': 10.0, 'penalty': 'l2'}</td>\n",
       "    </tr>\n",
       "    <tr>\n",
       "      <th>11</th>\n",
       "      <td>0.983422</td>\n",
       "      <td>{'C': 100.0, 'penalty': 'l2'}</td>\n",
       "    </tr>\n",
       "    <tr>\n",
       "      <th>8</th>\n",
       "      <td>0.978682</td>\n",
       "      <td>{'C': 10.0, 'penalty': 'l1'}</td>\n",
       "    </tr>\n",
       "  </tbody>\n",
       "</table>\n",
       "</div>"
      ],
      "text/plain": [
       "     roc_auc                             Cs\n",
       "9   0.984876   {'C': 10.0, 'penalty': 'l2'}\n",
       "11  0.983422  {'C': 100.0, 'penalty': 'l2'}\n",
       "8   0.978682   {'C': 10.0, 'penalty': 'l1'}"
      ]
     },
     "execution_count": 49,
     "metadata": {},
     "output_type": "execute_result"
    }
   ],
   "source": [
    "df_logistic = pd.DataFrame(scores, columns = ['roc_auc'])\n",
    "df_logistic['Cs'] = parameters\n",
    "df_logistic.sort_values(by=['roc_auc'], ascending=False)[:3]"
   ]
  },
  {
   "cell_type": "markdown",
   "metadata": {},
   "source": [
    "### b) Validation on The Test Set"
   ]
  },
  {
   "cell_type": "code",
   "execution_count": 50,
   "metadata": {},
   "outputs": [
    {
     "name": "stdout",
     "output_type": "stream",
     "text": [
      "0.8453162582513715\n"
     ]
    }
   ],
   "source": [
    "logistic_final = OneVsRestClassifier(LogisticRegression(C=10, penalty='l2'))\n",
    "\n",
    "logistic_final.fit(X_train_tfidf_over, y_tr_binary)\n",
    "y_score_logistic = logistic_final.predict_proba(X_test_tfidf_over)\n",
    "\n",
    "n_classes = 5\n",
    "\n",
    "fpr_log = dict()\n",
    "tpr_log = dict()\n",
    "roc_auc_log = dict()\n",
    "for i in range(n_classes):\n",
    "    fpr_log[i], tpr_log[i], _ = roc_curve(y_test_binary[:, i], y_score_logistic[:, i])\n",
    "    roc_auc_log[i] = auc(fpr_log[i], tpr_log[i])\n",
    "\n",
    "fpr_log[\"micro\"], tpr_log[\"micro\"], _ = roc_curve(y_test_binary.ravel(), y_score_logistic.ravel())\n",
    "roc_auc_log[\"micro\"] = auc(fpr_log[\"micro\"], tpr_log[\"micro\"])\n",
    "\n",
    "all_fpr_log = np.unique(np.concatenate([fpr_log[i] for i in range(n_classes)]))\n",
    "\n",
    "\n",
    "mean_tpr_log = np.zeros_like(all_fpr_log)\n",
    "\n",
    "for i in range(n_classes):\n",
    "    mean_tpr_log += interp(all_fpr_log, fpr_log[i], tpr_log[i])\n",
    "\n",
    "\n",
    "mean_tpr_log /= n_classes\n",
    "\n",
    "fpr_log[\"macro\"] = all_fpr_log\n",
    "tpr_log[\"macro\"] = mean_tpr_log\n",
    "roc_auc_log[\"macro\"] = auc(fpr_log[\"macro\"], tpr_log[\"macro\"])\n",
    "#print(roc_auc[\"micro\"], \n",
    "print(roc_auc_log[\"macro\"])"
   ]
  },
  {
   "cell_type": "markdown",
   "metadata": {},
   "source": [
    "### 2. SVC"
   ]
  },
  {
   "cell_type": "markdown",
   "metadata": {},
   "source": [
    "### a) Parameter Finetuning On The Training Set"
   ]
  },
  {
   "cell_type": "code",
   "execution_count": 51,
   "metadata": {},
   "outputs": [],
   "source": [
    "from sklearn.svm import SVC\n",
    "\n",
    "kf = KFold(n_splits = 5, random_state=108)\n",
    "accross_folds = []\n",
    "\n",
    "param_grid = [{'C': [1e-3, 1e-2, 1e-1, 1, 1e1, 20, 1e2, 1e3,1e4 ],\n",
    "             'gamma': [1e-3, 1e-2, 1e-1, 1, 'auto']}\n",
    "                           ]        \n",
    "grid = ParameterGrid(param_grid)\n",
    "parameters = []\n",
    "scores = []\n",
    "for params in grid:\n",
    "    accross_folds = []\n",
    "    for train_index, test_index in kf.split(X_train_tfidf_over):\n",
    "        X_train, X_test = X_train_tfidf_over[train_index], X_train_tfidf_over[test_index]\n",
    "        y_train, y_test = y_tr_binary[train_index], y_tr_binary[test_index]\n",
    "        svc = OneVsRestClassifier(SVC(**params, probability=True))\n",
    "        y_score = svc.fit(X_train, y_train)\n",
    "        y_score = svc.predict_proba(X_test)\n",
    "        fpr = dict()\n",
    "        tpr = dict()\n",
    "        roc_auc = dict()\n",
    "        for i in range(5):\n",
    "            fpr[i], tpr[i], _ = roc_curve(y_test[:, i], y_score[:, i])\n",
    "            roc_auc[i] = auc(fpr[i], tpr[i])\n",
    "\n",
    "       \n",
    "        n_classes = 5\n",
    "        all_fpr = np.unique(np.concatenate([fpr[i] for i in range(5)]))\n",
    "\n",
    "        \n",
    "        mean_tpr = np.zeros_like(all_fpr)\n",
    "        for i in range(n_classes):\n",
    "            mean_tpr += interp(all_fpr, fpr[i], tpr[i])\n",
    "\n",
    "       \n",
    "        mean_tpr /= 5\n",
    "\n",
    "        fpr[\"macro\"] = all_fpr\n",
    "        tpr[\"macro\"] = mean_tpr\n",
    "        roc_auc[\"macro\"] = auc(fpr[\"macro\"], tpr[\"macro\"])\n",
    "        \n",
    "        accross_folds.append(roc_auc[\"macro\"])\n",
    "    parameters.append(params)\n",
    "    scores.append(np.mean(accross_folds))"
   ]
  },
  {
   "cell_type": "code",
   "execution_count": 52,
   "metadata": {},
   "outputs": [
    {
     "data": {
      "text/html": [
       "<div>\n",
       "<style scoped>\n",
       "    .dataframe tbody tr th:only-of-type {\n",
       "        vertical-align: middle;\n",
       "    }\n",
       "\n",
       "    .dataframe tbody tr th {\n",
       "        vertical-align: top;\n",
       "    }\n",
       "\n",
       "    .dataframe thead th {\n",
       "        text-align: right;\n",
       "    }\n",
       "</style>\n",
       "<table border=\"1\" class=\"dataframe\">\n",
       "  <thead>\n",
       "    <tr style=\"text-align: right;\">\n",
       "      <th></th>\n",
       "      <th>roc_auc</th>\n",
       "      <th>params</th>\n",
       "    </tr>\n",
       "  </thead>\n",
       "  <tbody>\n",
       "    <tr>\n",
       "      <th>18</th>\n",
       "      <td>0.990842</td>\n",
       "      <td>{'C': 1, 'gamma': 1}</td>\n",
       "    </tr>\n",
       "    <tr>\n",
       "      <th>23</th>\n",
       "      <td>0.990817</td>\n",
       "      <td>{'C': 10.0, 'gamma': 1}</td>\n",
       "    </tr>\n",
       "    <tr>\n",
       "      <th>43</th>\n",
       "      <td>0.990675</td>\n",
       "      <td>{'C': 10000.0, 'gamma': 1}</td>\n",
       "    </tr>\n",
       "  </tbody>\n",
       "</table>\n",
       "</div>"
      ],
      "text/plain": [
       "     roc_auc                      params\n",
       "18  0.990842        {'C': 1, 'gamma': 1}\n",
       "23  0.990817     {'C': 10.0, 'gamma': 1}\n",
       "43  0.990675  {'C': 10000.0, 'gamma': 1}"
      ]
     },
     "execution_count": 52,
     "metadata": {},
     "output_type": "execute_result"
    }
   ],
   "source": [
    "df_svc = pd.DataFrame(scores, columns = ['roc_auc'])\n",
    "df_svc['params'] = parameters\n",
    "df_svc.sort_values(by=['roc_auc'], ascending=False)[:3]"
   ]
  },
  {
   "cell_type": "markdown",
   "metadata": {},
   "source": [
    "### b) Validation on The Test Set"
   ]
  },
  {
   "cell_type": "code",
   "execution_count": 53,
   "metadata": {},
   "outputs": [
    {
     "name": "stdout",
     "output_type": "stream",
     "text": [
      "0.839682702908342\n"
     ]
    }
   ],
   "source": [
    "svc_final = OneVsRestClassifier(SVC(C=1, gamma=1, probability=True))\n",
    "svc_final.fit(X_train_tfidf_over, y_tr_binary)\n",
    "y_score_svc = svc_final.predict_proba(X_test_tfidf_over)\n",
    "\n",
    "n_classes = 5\n",
    "fpr_svc = dict()\n",
    "tpr_svc = dict()\n",
    "roc_auc_svc = dict()\n",
    "\n",
    "for i in range(n_classes):\n",
    "    fpr_svc[i], tpr_svc[i], _ = roc_curve(y_test_binary[:, i], y_score_svc[:, i])\n",
    "    roc_auc_svc[i] = auc(fpr_svc[i], tpr_svc[i])\n",
    "\n",
    "\n",
    "\n",
    "fpr_svc[\"micro\"], tpr_svc[\"micro\"], _ = roc_curve(y_test_binary.ravel(), y_score_svc.ravel())\n",
    "roc_auc_svc[\"micro\"] = auc(fpr_svc[\"micro\"], tpr_svc[\"micro\"])\n",
    "\n",
    "all_fpr_svc = np.unique(np.concatenate([fpr_svc[i] for i in range(n_classes)]))\n",
    "\n",
    "mean_tpr_svc = np.zeros_like(all_fpr_svc)\n",
    "\n",
    "for i in range(n_classes):\n",
    "    mean_tpr_svc += interp(all_fpr_svc, fpr_svc[i], tpr_svc[i])\n",
    "\n",
    "\n",
    "mean_tpr_svc /= n_classes\n",
    "\n",
    "fpr_svc[\"macro\"] = all_fpr_svc\n",
    "tpr_svc[\"macro\"] = mean_tpr_svc\n",
    "\n",
    "roc_auc_svc[\"macro\"] = auc(fpr_svc[\"macro\"], tpr_svc[\"macro\"])\n",
    "\n",
    "print(roc_auc_svc[\"macro\"])\n"
   ]
  },
  {
   "cell_type": "markdown",
   "metadata": {},
   "source": [
    "### 3. Random Forest Classifier"
   ]
  },
  {
   "cell_type": "markdown",
   "metadata": {},
   "source": [
    "### a) Parameter Finetuning on the Training Set"
   ]
  },
  {
   "cell_type": "code",
   "execution_count": 54,
   "metadata": {},
   "outputs": [],
   "source": [
    "\n",
    "kf = KFold(n_splits = 5, random_state=108)\n",
    "accross_folds = []\n",
    "\n",
    "param_grid_rfc = [\n",
    "                {'n_estimators': [100, 500, 700, 1000, 1200],\n",
    "                'max_depth': [5, 8, 12, 20, 30, 50, 70, 100, 120, 150]}\n",
    "    \n",
    "                ]\n",
    "grid = ParameterGrid(param_grid_rfc)\n",
    "parameters = []\n",
    "scores = []\n",
    "for params in grid:\n",
    "    accross_folds = []\n",
    "    for train_index, test_index in kf.split(X_train_tfidf_over):\n",
    "        X_train, X_test = X_train_tfidf_over[train_index], X_train_tfidf_over[test_index]\n",
    "        y_train, y_test = y_tr_binary[train_index], y_tr_binary[test_index]\n",
    "        rfc = RandomForestClassifier(**params, n_jobs = -1)\n",
    "        y_score = rfc.fit(X_train, y_train).predict_proba(X_test)\n",
    "        fpr = dict()\n",
    "        tpr = dict()\n",
    "        roc_auc = dict()\n",
    "        for i in range(5):\n",
    "            fpr[i], tpr[i], _ = roc_curve(y_test[:, i], y_score[i][:, 1])\n",
    "            roc_auc[i] = auc(fpr[i], tpr[i])\n",
    "\n",
    "        n_classes = 5\n",
    "        all_fpr = np.unique(np.concatenate([fpr[i] for i in range(5)]))\n",
    "\n",
    "        \n",
    "        mean_tpr = np.zeros_like(all_fpr)\n",
    "        for i in range(n_classes):\n",
    "            mean_tpr += interp(all_fpr, fpr[i], tpr[i])\n",
    "\n",
    "        \n",
    "        mean_tpr /= 5\n",
    "\n",
    "        fpr[\"macro\"] = all_fpr\n",
    "        tpr[\"macro\"] = mean_tpr\n",
    "        roc_auc[\"macro\"] = auc(fpr[\"macro\"], tpr[\"macro\"])\n",
    "        \n",
    "        accross_folds.append(roc_auc[\"macro\"])\n",
    "    parameters.append(params)\n",
    "    scores.append(np.mean(accross_folds))"
   ]
  },
  {
   "cell_type": "code",
   "execution_count": 55,
   "metadata": {},
   "outputs": [
    {
     "data": {
      "text/html": [
       "<div>\n",
       "<style scoped>\n",
       "    .dataframe tbody tr th:only-of-type {\n",
       "        vertical-align: middle;\n",
       "    }\n",
       "\n",
       "    .dataframe tbody tr th {\n",
       "        vertical-align: top;\n",
       "    }\n",
       "\n",
       "    .dataframe thead th {\n",
       "        text-align: right;\n",
       "    }\n",
       "</style>\n",
       "<table border=\"1\" class=\"dataframe\">\n",
       "  <thead>\n",
       "    <tr style=\"text-align: right;\">\n",
       "      <th></th>\n",
       "      <th>roc_auc</th>\n",
       "      <th>params</th>\n",
       "    </tr>\n",
       "  </thead>\n",
       "  <tbody>\n",
       "    <tr>\n",
       "      <th>48</th>\n",
       "      <td>0.993210</td>\n",
       "      <td>{'max_depth': 150, 'n_estimators': 1000}</td>\n",
       "    </tr>\n",
       "    <tr>\n",
       "      <th>44</th>\n",
       "      <td>0.993173</td>\n",
       "      <td>{'max_depth': 120, 'n_estimators': 1200}</td>\n",
       "    </tr>\n",
       "    <tr>\n",
       "      <th>49</th>\n",
       "      <td>0.993054</td>\n",
       "      <td>{'max_depth': 150, 'n_estimators': 1200}</td>\n",
       "    </tr>\n",
       "  </tbody>\n",
       "</table>\n",
       "</div>"
      ],
      "text/plain": [
       "     roc_auc                                    params\n",
       "48  0.993210  {'max_depth': 150, 'n_estimators': 1000}\n",
       "44  0.993173  {'max_depth': 120, 'n_estimators': 1200}\n",
       "49  0.993054  {'max_depth': 150, 'n_estimators': 1200}"
      ]
     },
     "execution_count": 55,
     "metadata": {},
     "output_type": "execute_result"
    }
   ],
   "source": [
    "df_rfc = pd.DataFrame(scores, columns = ['roc_auc'])\n",
    "df_rfc['params'] = parameters\n",
    "df_rfc.sort_values(by=['roc_auc'], ascending=False)[:3]"
   ]
  },
  {
   "cell_type": "code",
   "execution_count": 56,
   "metadata": {},
   "outputs": [],
   "source": [
    "\n",
    "kf = KFold(n_splits = 5, random_state=108)\n",
    "accross_folds = []\n",
    "\n",
    "param_grid_rfc = [\n",
    "                {'max_features': ['auto', 'sqrt'],\n",
    "                'min_samples_split': [2, 5, 10],\n",
    "                'min_samples_leaf': [1, 2, 4],\n",
    "                'bootstrap': [True, False]}\n",
    "                            ]\n",
    "grid = ParameterGrid(param_grid_rfc)\n",
    "parameters = []\n",
    "scores = []\n",
    "for params in grid:\n",
    "    accross_folds = []\n",
    "    for train_index, test_index in kf.split(X_train_tfidf_over):\n",
    "        X_train, X_test = X_train_tfidf_over[train_index], X_train_tfidf_over[test_index]\n",
    "        y_train, y_test = y_tr_binary[train_index], y_tr_binary[test_index]\n",
    "        rfc = RandomForestClassifier(**params, n_estimators = 1000, max_depth = 150, n_jobs = -1)\n",
    "        y_score = rfc.fit(X_train, y_train).predict_proba(X_test)\n",
    "        fpr = dict()\n",
    "        tpr = dict()\n",
    "        roc_auc = dict()\n",
    "        for i in range(5):\n",
    "            fpr[i], tpr[i], _ = roc_curve(y_test[:, i], y_score[i][:, 1])\n",
    "            roc_auc[i] = auc(fpr[i], tpr[i])\n",
    "\n",
    "        n_classes = 5\n",
    "        all_fpr = np.unique(np.concatenate([fpr[i] for i in range(5)]))\n",
    "\n",
    "        \n",
    "        mean_tpr = np.zeros_like(all_fpr)\n",
    "        for i in range(n_classes):\n",
    "            mean_tpr += interp(all_fpr, fpr[i], tpr[i])\n",
    "\n",
    "       \n",
    "        mean_tpr /= 5\n",
    "\n",
    "        fpr[\"macro\"] = all_fpr\n",
    "        tpr[\"macro\"] = mean_tpr\n",
    "        roc_auc[\"macro\"] = auc(fpr[\"macro\"], tpr[\"macro\"])\n",
    "        \n",
    "        accross_folds.append(roc_auc[\"macro\"])\n",
    "    parameters.append(params)\n",
    "    scores.append(np.mean(accross_folds))"
   ]
  },
  {
   "cell_type": "code",
   "execution_count": 57,
   "metadata": {},
   "outputs": [
    {
     "data": {
      "text/html": [
       "<div>\n",
       "<style scoped>\n",
       "    .dataframe tbody tr th:only-of-type {\n",
       "        vertical-align: middle;\n",
       "    }\n",
       "\n",
       "    .dataframe tbody tr th {\n",
       "        vertical-align: top;\n",
       "    }\n",
       "\n",
       "    .dataframe thead th {\n",
       "        text-align: right;\n",
       "    }\n",
       "</style>\n",
       "<table border=\"1\" class=\"dataframe\">\n",
       "  <thead>\n",
       "    <tr style=\"text-align: right;\">\n",
       "      <th></th>\n",
       "      <th>roc_auc</th>\n",
       "      <th>params</th>\n",
       "    </tr>\n",
       "  </thead>\n",
       "  <tbody>\n",
       "    <tr>\n",
       "      <th>1</th>\n",
       "      <td>0.993382</td>\n",
       "      <td>{'bootstrap': True, 'max_features': 'auto', 'm...</td>\n",
       "    </tr>\n",
       "    <tr>\n",
       "      <th>10</th>\n",
       "      <td>0.993245</td>\n",
       "      <td>{'bootstrap': True, 'max_features': 'sqrt', 'm...</td>\n",
       "    </tr>\n",
       "    <tr>\n",
       "      <th>29</th>\n",
       "      <td>0.993211</td>\n",
       "      <td>{'bootstrap': False, 'max_features': 'sqrt', '...</td>\n",
       "    </tr>\n",
       "  </tbody>\n",
       "</table>\n",
       "</div>"
      ],
      "text/plain": [
       "     roc_auc                                             params\n",
       "1   0.993382  {'bootstrap': True, 'max_features': 'auto', 'm...\n",
       "10  0.993245  {'bootstrap': True, 'max_features': 'sqrt', 'm...\n",
       "29  0.993211  {'bootstrap': False, 'max_features': 'sqrt', '..."
      ]
     },
     "execution_count": 57,
     "metadata": {},
     "output_type": "execute_result"
    }
   ],
   "source": [
    "df_rfc = pd.DataFrame(scores, columns = ['roc_auc'])\n",
    "df_rfc['params'] = parameters\n",
    "df_rfc.sort_values(by=['roc_auc'], ascending=False)[:3]"
   ]
  },
  {
   "cell_type": "code",
   "execution_count": 58,
   "metadata": {},
   "outputs": [
    {
     "data": {
      "text/plain": [
       "{'bootstrap': False,\n",
       " 'max_features': 'sqrt',\n",
       " 'min_samples_leaf': 1,\n",
       " 'min_samples_split': 10}"
      ]
     },
     "execution_count": 58,
     "metadata": {},
     "output_type": "execute_result"
    }
   ],
   "source": [
    "df_rfc.iloc[29, 1]"
   ]
  },
  {
   "cell_type": "markdown",
   "metadata": {},
   "source": [
    "### b) Validation On The Test Set"
   ]
  },
  {
   "cell_type": "code",
   "execution_count": 59,
   "metadata": {},
   "outputs": [
    {
     "name": "stdout",
     "output_type": "stream",
     "text": [
      "0.8166257762563028\n"
     ]
    }
   ],
   "source": [
    "rfc_final = RandomForestClassifier(n_estimators = 1000, \n",
    "                                   max_depth = 150, \n",
    "                                   bootstrap= False,\n",
    "                                   max_features= 'sqrt',\n",
    "                                   min_samples_leaf=1,\n",
    "                                   min_samples_split= 10,\n",
    "                                   n_jobs = -1)\n",
    "\n",
    "rfc_final.fit(X_train_tfidf_over, y_tr_binary)\n",
    "y_score_rfc = rfc_final.predict_proba(X_test_tfidf_over)\n",
    "\n",
    "n_classes = 5\n",
    "\n",
    "fpr_rfc = dict()\n",
    "tpr_rfc = dict()\n",
    "roc_auc_rfc = dict()\n",
    "\n",
    "for i in range(n_classes):\n",
    "    fpr_rfc[i], tpr_rfc[i], _ = roc_curve(y_test_binary[:, i], y_score_rfc[i][:, 1])\n",
    "    roc_auc_rfc[i] = auc(fpr_rfc[i], tpr_rfc[i])\n",
    "\n",
    "\n",
    "all_fpr_rfc = np.unique(np.concatenate([fpr_rfc[i] for i in range(n_classes)]))\n",
    "\n",
    "mean_tpr_rfc = np.zeros_like(all_fpr_rfc)\n",
    "\n",
    "for i in range(n_classes):\n",
    "    mean_tpr_rfc += interp(all_fpr_rfc, fpr_rfc[i], tpr_rfc[i])\n",
    "\n",
    "mean_tpr_rfc /= 5\n",
    "\n",
    "fpr_rfc[\"macro\"] = all_fpr_rfc\n",
    "tpr_rfc[\"macro\"] = mean_tpr_rfc\n",
    "\n",
    "roc_auc_rfc[\"macro\"] = auc(fpr_rfc[\"macro\"], tpr_rfc[\"macro\"])\n",
    "\n",
    "print(roc_auc_rfc[\"macro\"])"
   ]
  },
  {
   "cell_type": "markdown",
   "metadata": {},
   "source": [
    "## IV. The Best Model: Logistic Regression (Lasso)"
   ]
  },
  {
   "cell_type": "code",
   "execution_count": 60,
   "metadata": {},
   "outputs": [
    {
     "data": {
      "image/png": "[encoded data removed]",
      "text/plain": [
       "<Figure size 720x504 with 1 Axes>"
      ]
     },
     "metadata": {
      "needs_background": "light"
     },
     "output_type": "display_data"
    }
   ],
   "source": [
    "lw=2\n",
    "# Plot all ROC curves\n",
    "plt.figure(figsize = (10, 7))\n",
    "plt.plot(fpr_log[\"micro\"], tpr_log[\"micro\"],\n",
    "         label='micro-average ROC curve (area = {0:0.2f})'\n",
    "               ''.format(roc_auc_log[\"micro\"]),\n",
    "         color='deeppink', linestyle=':', linewidth=4)\n",
    "\n",
    "plt.plot(fpr_log[\"macro\"], tpr_log[\"macro\"],\n",
    "         label='macro-average ROC curve (area = {0:0.2f})'\n",
    "               ''.format(roc_auc_log[\"macro\"]),\n",
    "         color='navy', linestyle=':', linewidth=4)\n",
    "\n",
    "colors = cycle(['aqua', 'darkorange', 'cornflowerblue', 'green', 'red'])\n",
    "for i, color in zip(range(n_classes), colors):\n",
    "    plt.plot(fpr_log[i], tpr_log[i], color=color, lw=lw,\n",
    "             label='ROC curve of class {0} (area = {1:0.2f})'\n",
    "             ''.format(i, roc_auc_log[i]))\n",
    "\n",
    "plt.plot([0, 1], [0, 1], 'k--', lw=lw)\n",
    "plt.xlim([0.0, 1.0])\n",
    "plt.ylim([0.0, 1.05])\n",
    "plt.xlabel('False Positive Rate')\n",
    "plt.ylabel('True Positive Rate')\n",
    "plt.title('Roc_Auc Curves: Logistic Regression')\n",
    "plt.legend(loc=\"lower right\")\n",
    "plt.show()"
   ]
  },
  {
   "cell_type": "code",
   "execution_count": 61,
   "metadata": {},
   "outputs": [],
   "source": [
    "pred_logistic = logistic_final.fit(X_train_tfidf_over, y_train_balanced_over).predict_proba(X_test_tfidf_over)"
   ]
  },
  {
   "cell_type": "markdown",
   "metadata": {},
   "source": [
    "Confusion matrix we create depends on the thresholds we set for each class. These thresholds can be adjusted based on the goals of the potential end users of the model."
   ]
  },
  {
   "cell_type": "code",
   "execution_count": 62,
   "metadata": {},
   "outputs": [],
   "source": [
    "def threshold_changer(pred_probs):    \n",
    "    predicted_class = []\n",
    "    for entry in pred_probs:\n",
    "        thresholder = pd.DataFrame()\n",
    "        classes = []\n",
    "        zero_or_ones = []\n",
    "        probabilities = []\n",
    "      \n",
    "        for cl, probs in enumerate(entry):\n",
    "            classes.append(cl)\n",
    "            probabilities.append(probs)\n",
    "\n",
    "        thresholder['classes'] =classes\n",
    "        thresholder['probabilities'] = probabilities\n",
    "\n",
    "        \n",
    "        if (thresholder[thresholder['classes']==0].iloc[0, 1]) >=0.3:\n",
    "            predicted_class.append(0)\n",
    "        elif (thresholder[thresholder['classes']==1].iloc[0, 1]) >=0.3:\n",
    "            predicted_class.append(1)\n",
    "        elif (thresholder[thresholder['classes']==2].iloc[0, 1]) >=0.08:\n",
    "            predicted_class.append(2)\n",
    "        elif (thresholder[thresholder['classes']==4].iloc[0, 1]) >=0.2:\n",
    "            predicted_class.append(4)\n",
    "        else:\n",
    "            predicted_class.append(3)\n",
    "    return predicted_class\n"
   ]
  },
  {
   "cell_type": "code",
   "execution_count": 63,
   "metadata": {},
   "outputs": [
    {
     "name": "stdout",
     "output_type": "stream",
     "text": [
      "[[ 15   0   3   2   5]\n",
      " [  0   3   1   3   1]\n",
      " [  2   0  19   2   4]\n",
      " [  4   2  45 128  42]\n",
      " [  6   3  22   8  68]]\n"
     ]
    }
   ],
   "source": [
    "y_pred_logistic = threshold_changer(pred_logistic )\n",
    "\n",
    "print(confusion_matrix(y_test_encoded, y_pred_logistic))"
   ]
  },
  {
   "cell_type": "markdown",
   "metadata": {},
   "source": [
    "# Part II. Noise In The Data"
   ]
  },
  {
   "cell_type": "markdown",
   "metadata": {},
   "source": [
    "To pose an additional challenge, we will insert, change or delete one to three letters in words (in 10% of the data)."
   ]
  },
  {
   "cell_type": "markdown",
   "metadata": {},
   "source": [
    "### 1. Creation of A Noisy Data Set"
   ]
  },
  {
   "cell_type": "code",
   "execution_count": 64,
   "metadata": {},
   "outputs": [],
   "source": [
    "X_train, X_test, y_train, y_test = train_test_split(X, y, test_size=0.3, random_state=108)"
   ]
  },
  {
   "cell_type": "code",
   "execution_count": 65,
   "metadata": {},
   "outputs": [],
   "source": [
    "import random\n",
    "import string"
   ]
  },
  {
   "cell_type": "code",
   "execution_count": 66,
   "metadata": {},
   "outputs": [],
   "source": [
    "# a function generating a specified number of random letters\n",
    "def random_char(number):\n",
    "       return ''.join(random.choice(string.ascii_letters) for x in range(number))\n"
   ]
  },
  {
   "cell_type": "code",
   "execution_count": 67,
   "metadata": {},
   "outputs": [],
   "source": [
    "# a function generating a specified number of random numbers in a specified range\n",
    "\n",
    "def random_generator(number, max_num):\n",
    "    random_generated = []\n",
    "    for num in range(number):\n",
    "        rand_num = random.randint(1, max_num)\n",
    "        random_generated.append(rand_num)\n",
    "    return random_generated"
   ]
  },
  {
   "cell_type": "code",
   "execution_count": 68,
   "metadata": {},
   "outputs": [],
   "source": [
    "# a function that adds noise to the data\n",
    "def noiser(data):\n",
    "    words = []\n",
    "    for entry in data:\n",
    "        entry_parsed = nlp(entry)\n",
    "        string = ''\n",
    "\n",
    "        \n",
    "        # to make sure that at least one word is altered in each sentence regardless of its length\n",
    "        how_many_words = np.amax([1, round(len(entry_parsed)*0.1)])\n",
    "        how_many_letters = random.randint(1, 3)\n",
    "        \n",
    "        #one for insertion, two for replacement, three for deletion\n",
    "        which_method = random.randint(1, 3)\n",
    "       \n",
    "        rand_numbers = random_generator(how_many_words, len(entry_parsed))\n",
    "        for num, token in enumerate(entry_parsed):\n",
    "            str_token = str(token)\n",
    "            if num in rand_numbers:\n",
    "                cutoff = random.randint(1, len(token))\n",
    "                #insertion of random letters\n",
    "                if which_method ==1:\n",
    "                    str_token = str_token[:int(cutoff)] + random_char(how_many_letters)+ str_token[cutoff:] \n",
    "\n",
    "                #replacement of random letters    \n",
    "                elif which_method == 2:\n",
    "                    str_token = str_token[:cutoff] + random_char(how_many_letters)+ str_token[cutoff+how_many_letters:] \n",
    "\n",
    "                #deletion of random letters\n",
    "                elif which_method == 3:\n",
    "                    str_token = str_token[:cutoff] + str_token[cutoff+how_many_letters:]\n",
    "            string += str_token + ' '\n",
    "            string = string.replace('-', '')\n",
    "\n",
    "\n",
    "        words.append(string.rstrip())\n",
    "    return words"
   ]
  },
  {
   "cell_type": "code",
   "execution_count": 69,
   "metadata": {},
   "outputs": [],
   "source": [
    "X_train_noised = noiser(X_train)"
   ]
  },
  {
   "cell_type": "code",
   "execution_count": 70,
   "metadata": {},
   "outputs": [],
   "source": [
    "X_test_noised = noiser(X_test)"
   ]
  },
  {
   "cell_type": "code",
   "execution_count": 71,
   "metadata": {},
   "outputs": [],
   "source": [
    "X_train_processed_noised = processor(X_train_noised, lemmatize=True)"
   ]
  },
  {
   "cell_type": "code",
   "execution_count": 72,
   "metadata": {},
   "outputs": [],
   "source": [
    "X_test_processed_noised = processor(X_test_noised, lemmatize=True)"
   ]
  },
  {
   "cell_type": "code",
   "execution_count": 73,
   "metadata": {},
   "outputs": [
    {
     "data": {
      "text/plain": [
       "['importantly iapdrrp rodwbtent specie rat mouse iapp lose capacity aggregate amyloid fibril citation bucsxt tranfqcsgenic mouse model express human iapp develop islet deposit citation',\n",
       " ' ovious th proof paper conditionaliz',\n",
       " 'case low likelihood cof tgyq slope expect weakly positive',\n",
       " 'furthermore convert mathematical model quantitatively iegrate gene expression datum reaction constraint comte functional network state compare report experimeal datum',\n",
       " 'in paper intnyduce radically new appghach base onpz machine learn technique map ases internet natural as taxonomy']"
      ]
     },
     "execution_count": 73,
     "metadata": {},
     "output_type": "execute_result"
    }
   ],
   "source": [
    "X_train_processed_noised[:5]"
   ]
  },
  {
   "cell_type": "markdown",
   "metadata": {},
   "source": [
    "### 2. Oversampling To Tackle Class Imabalance"
   ]
  },
  {
   "cell_type": "code",
   "execution_count": 74,
   "metadata": {},
   "outputs": [],
   "source": [
    "X_train_concat = pd.DataFrame({'texts': X_train_processed_noised, 'classes': y_train_encoded})"
   ]
  },
  {
   "cell_type": "code",
   "execution_count": 75,
   "metadata": {},
   "outputs": [],
   "source": [
    "X_train_zero = (X_train_concat[X_train_concat['classes']==0]).sample(535, random_state=108, replace=True)\n",
    "X_train_one = (X_train_concat[X_train_concat['classes']==1]).sample(535, random_state=108, replace=True)\n",
    "X_train_two = (X_train_concat[X_train_concat['classes']==2]).sample(535, random_state=108, replace=True)\n",
    "X_train_three = X_train_concat[X_train_concat['classes']==3]\n",
    "X_train_four = (X_train_concat[X_train_concat['classes']==4]).sample(535, random_state=108, replace=True)"
   ]
  },
  {
   "cell_type": "code",
   "execution_count": 76,
   "metadata": {},
   "outputs": [],
   "source": [
    "X_train_balanced_over = pd.concat([X_train_zero\n",
    "                                  ,X_train_one\n",
    "                                  ,X_train_two\n",
    "                                  ,X_train_three \n",
    "                                  ,X_train_four], axis=0, ignore_index=True)"
   ]
  },
  {
   "cell_type": "code",
   "execution_count": 77,
   "metadata": {},
   "outputs": [
    {
     "data": {
      "text/plain": [
       "(2675, 2)"
      ]
     },
     "execution_count": 77,
     "metadata": {},
     "output_type": "execute_result"
    }
   ],
   "source": [
    "X_train_balanced_over.shape"
   ]
  },
  {
   "cell_type": "code",
   "execution_count": 78,
   "metadata": {},
   "outputs": [],
   "source": [
    "#shuffle all classes \n",
    "\n",
    "X_train_balanced_over = X_train_balanced_over.sample(2675)"
   ]
  },
  {
   "cell_type": "code",
   "execution_count": 79,
   "metadata": {},
   "outputs": [
    {
     "data": {
      "text/plain": [
       "(array([0, 1, 2, 3, 4]), array([535, 535, 535, 535, 535]))"
      ]
     },
     "execution_count": 79,
     "metadata": {},
     "output_type": "execute_result"
    }
   ],
   "source": [
    "np.unique(X_train_balanced_over['classes'], return_counts = True)"
   ]
  },
  {
   "cell_type": "code",
   "execution_count": 80,
   "metadata": {},
   "outputs": [],
   "source": [
    "y_train_balanced_over_encoded = X_train_balanced_over['classes']"
   ]
  },
  {
   "cell_type": "code",
   "execution_count": 81,
   "metadata": {},
   "outputs": [],
   "source": [
    "y_tr_binary = label_binarize(y_train_balanced_over_encoded, classes =[0, 1, 2, 3, 4])"
   ]
  },
  {
   "cell_type": "code",
   "execution_count": 82,
   "metadata": {},
   "outputs": [],
   "source": [
    "vectorizer_noised = TfidfVectorizer(max_df=0.8, \n",
    "                             min_df=7, \n",
    "                             stop_words='english', \n",
    "                             lowercase=True, \n",
    "                             use_idf=True,\n",
    "                             norm=u'l2',\n",
    "                             smooth_idf=True\n",
    "                            )"
   ]
  },
  {
   "cell_type": "code",
   "execution_count": 83,
   "metadata": {},
   "outputs": [
    {
     "name": "stdout",
     "output_type": "stream",
     "text": [
      "Number of features: 1173\n"
     ]
    }
   ],
   "source": [
    "X_train_tfidf_noised=vectorizer_noised.fit_transform(X_train_balanced_over['texts'])\n",
    "\n",
    "print(\"Number of features: %d\" % X_train_tfidf_noised.get_shape()[1])"
   ]
  },
  {
   "cell_type": "code",
   "execution_count": 84,
   "metadata": {},
   "outputs": [],
   "source": [
    "X_test_tfidf_noised = vectorizer_noised.transform(X_test_noised)"
   ]
  },
  {
   "cell_type": "markdown",
   "metadata": {},
   "source": [
    "### 3. Training Logistic Regression"
   ]
  },
  {
   "cell_type": "markdown",
   "metadata": {},
   "source": [
    "### a) Cross-Validation on the Noised Training Set"
   ]
  },
  {
   "cell_type": "code",
   "execution_count": 85,
   "metadata": {},
   "outputs": [],
   "source": [
    "kf = KFold(n_splits = 5, random_state=108)\n",
    "accross_folds = []\n",
    "\n",
    "param_grid = {'penalty': ['l1', 'l2'],\n",
    "             'C': [1e-3,1e-2,1e-1,1,1e1,1e2]}\n",
    "\n",
    "grid = ParameterGrid(param_grid)\n",
    "parameters = []\n",
    "scores = []\n",
    "\n",
    "for params in grid:\n",
    "    accross_folds = []\n",
    "    for train_index, test_index in kf.split(X_train_tfidf_noised):\n",
    "        X_train, X_test = X_train_tfidf_noised[train_index], X_train_tfidf_noised[test_index]\n",
    "        y_train, y_test = y_tr_binary[train_index], y_tr_binary[test_index]\n",
    "        logistic = OneVsRestClassifier(LogisticRegression(**params))\n",
    "        y_score = logistic.fit(X_train, y_train).predict_proba(X_test)\n",
    "        fpr = dict()\n",
    "        tpr = dict()\n",
    "        roc_auc = dict()\n",
    "        n_classes = 5\n",
    "        for i in range(n_classes):\n",
    "            fpr[i], tpr[i], _ = roc_curve(y_test[:, i], y_score[:, i])\n",
    "            roc_auc[i] = auc(fpr[i], tpr[i])\n",
    "\n",
    "       \n",
    "\n",
    "        all_fpr = np.unique(np.concatenate([fpr[i] for i in range(n_classes)]))\n",
    "\n",
    "        # Then interpolate all ROC curves at this points\n",
    "        mean_tpr = np.zeros_like(all_fpr)\n",
    "        for i in range(n_classes):\n",
    "            mean_tpr += interp(all_fpr, fpr[i], tpr[i])\n",
    "\n",
    "        # Finally average it and compute AUC\n",
    "        mean_tpr /= n_classes\n",
    "\n",
    "        fpr[\"macro\"] = all_fpr\n",
    "        tpr[\"macro\"] = mean_tpr\n",
    "        roc_auc[\"macro\"] = auc(fpr[\"macro\"], tpr[\"macro\"])\n",
    "\n",
    "        accross_folds.append(roc_auc[\"macro\"])\n",
    "    parameters.append(params)\n",
    "    scores.append(np.mean(accross_folds))"
   ]
  },
  {
   "cell_type": "code",
   "execution_count": 86,
   "metadata": {},
   "outputs": [
    {
     "data": {
      "text/html": [
       "<div>\n",
       "<style scoped>\n",
       "    .dataframe tbody tr th:only-of-type {\n",
       "        vertical-align: middle;\n",
       "    }\n",
       "\n",
       "    .dataframe tbody tr th {\n",
       "        vertical-align: top;\n",
       "    }\n",
       "\n",
       "    .dataframe thead th {\n",
       "        text-align: right;\n",
       "    }\n",
       "</style>\n",
       "<table border=\"1\" class=\"dataframe\">\n",
       "  <thead>\n",
       "    <tr style=\"text-align: right;\">\n",
       "      <th></th>\n",
       "      <th>roc_auc</th>\n",
       "      <th>Cs</th>\n",
       "    </tr>\n",
       "  </thead>\n",
       "  <tbody>\n",
       "    <tr>\n",
       "      <th>9</th>\n",
       "      <td>0.987460</td>\n",
       "      <td>{'C': 10.0, 'penalty': 'l2'}</td>\n",
       "    </tr>\n",
       "    <tr>\n",
       "      <th>11</th>\n",
       "      <td>0.986686</td>\n",
       "      <td>{'C': 100.0, 'penalty': 'l2'}</td>\n",
       "    </tr>\n",
       "    <tr>\n",
       "      <th>7</th>\n",
       "      <td>0.981739</td>\n",
       "      <td>{'C': 1, 'penalty': 'l2'}</td>\n",
       "    </tr>\n",
       "  </tbody>\n",
       "</table>\n",
       "</div>"
      ],
      "text/plain": [
       "     roc_auc                             Cs\n",
       "9   0.987460   {'C': 10.0, 'penalty': 'l2'}\n",
       "11  0.986686  {'C': 100.0, 'penalty': 'l2'}\n",
       "7   0.981739      {'C': 1, 'penalty': 'l2'}"
      ]
     },
     "execution_count": 86,
     "metadata": {},
     "output_type": "execute_result"
    }
   ],
   "source": [
    "df_logistic = pd.DataFrame(scores, columns = ['roc_auc'])\n",
    "df_logistic['Cs'] = parameters\n",
    "df_logistic.sort_values(by=['roc_auc'], ascending=False)[:3]"
   ]
  },
  {
   "cell_type": "markdown",
   "metadata": {},
   "source": [
    "### a) Test Set Evaluation"
   ]
  },
  {
   "cell_type": "code",
   "execution_count": 87,
   "metadata": {},
   "outputs": [
    {
     "name": "stdout",
     "output_type": "stream",
     "text": [
      "0.7874068387928091\n"
     ]
    }
   ],
   "source": [
    "logistic_final = OneVsRestClassifier(LogisticRegression(C=10, penalty='l2'))\n",
    "\n",
    "logistic_final.fit(X_train_tfidf_noised, y_tr_binary)\n",
    "y_score_logistic = logistic_final.predict_proba(X_test_tfidf_noised)\n",
    "\n",
    "n_classes = 5\n",
    "\n",
    "fpr_log = dict()\n",
    "tpr_log = dict()\n",
    "roc_auc_log = dict()\n",
    "for i in range(n_classes):\n",
    "    fpr_log[i], tpr_log[i], _ = roc_curve(y_test_binary[:, i], y_score_logistic[:, i])\n",
    "    roc_auc_log[i] = auc(fpr_log[i], tpr_log[i])\n",
    "\n",
    "# Compute micro-average ROC curve and ROC area\n",
    "fpr_log[\"micro\"], tpr_log[\"micro\"], _ = roc_curve(y_test_binary.ravel(), y_score_logistic.ravel())\n",
    "roc_auc_log[\"micro\"] = auc(fpr_log[\"micro\"], tpr_log[\"micro\"])\n",
    "\n",
    "all_fpr_log = np.unique(np.concatenate([fpr_log[i] for i in range(n_classes)]))\n",
    "\n",
    "# Then interpolate all ROC curves at this points\n",
    "mean_tpr_log = np.zeros_like(all_fpr_log)\n",
    "for i in range(n_classes):\n",
    "    mean_tpr_log += interp(all_fpr_log, fpr_log[i], tpr_log[i])\n",
    "\n",
    "# Finally average it and compute AUC\n",
    "mean_tpr_log /= n_classes\n",
    "\n",
    "fpr_log[\"macro\"] = all_fpr_log\n",
    "tpr_log[\"macro\"] = mean_tpr_log\n",
    "roc_auc_log[\"macro\"] = auc(fpr_log[\"macro\"], tpr_log[\"macro\"])\n",
    "#print(roc_auc[\"micro\"], \n",
    "print(roc_auc_log[\"macro\"])"
   ]
  },
  {
   "cell_type": "code",
   "execution_count": 88,
   "metadata": {},
   "outputs": [
    {
     "data": {
      "image/png": "[encoded data removed]",
      "text/plain": [
       "<Figure size 720x504 with 1 Axes>"
      ]
     },
     "metadata": {
      "needs_background": "light"
     },
     "output_type": "display_data"
    }
   ],
   "source": [
    "# Plot all ROC curves\n",
    "plt.figure(figsize = (10, 7))\n",
    "plt.plot(fpr_log[\"micro\"], tpr_log[\"micro\"],\n",
    "         label='micro-average ROC curve (area = {0:0.2f})'\n",
    "               ''.format(roc_auc_log[\"micro\"]),\n",
    "         color='deeppink', linestyle=':', linewidth=4)\n",
    "\n",
    "plt.plot(fpr_log[\"macro\"], tpr_log[\"macro\"],\n",
    "         label='macro-average ROC curve (area = {0:0.2f})'\n",
    "               ''.format(roc_auc_log[\"macro\"]),\n",
    "         color='navy', linestyle=':', linewidth=4)\n",
    "\n",
    "colors = cycle(['aqua', 'darkorange', 'cornflowerblue', 'green', 'red'])\n",
    "for i, color in zip(range(n_classes), colors):\n",
    "    plt.plot(fpr_log[i], tpr_log[i], color=color, lw=lw,\n",
    "             label='ROC curve of class {0} (area = {1:0.2f})'\n",
    "             ''.format(i, roc_auc_log[i]))\n",
    "\n",
    "plt.plot([0, 1], [0, 1], 'k--', lw=lw)\n",
    "plt.xlim([0.0, 1.0])\n",
    "plt.ylim([0.0, 1.05])\n",
    "plt.xlabel('False Positive Rate')\n",
    "plt.ylabel('True Positive Rate')\n",
    "plt.title('Roc_Auc Curves: Logistic Regression')\n",
    "plt.legend(loc=\"lower right\")\n",
    "plt.show()\n"
   ]
  },
  {
   "cell_type": "code",
   "execution_count": 89,
   "metadata": {},
   "outputs": [],
   "source": [
    "pred_logistic = logistic_final.fit(X_train_tfidf_noised, y_train_balanced_over_encoded).predict_proba(X_test_tfidf_noised)"
   ]
  },
  {
   "cell_type": "code",
   "execution_count": 90,
   "metadata": {},
   "outputs": [
    {
     "name": "stdout",
     "output_type": "stream",
     "text": [
      "[[ 10   0   4   6   5]\n",
      " [  0   3   1   3   1]\n",
      " [  0   0  15   7   5]\n",
      " [  9   0  58 116  38]\n",
      " [  6   3  29  15  54]]\n"
     ]
    }
   ],
   "source": [
    "y_pred_logistic = threshold_changer(pred_logistic )\n",
    "\n",
    "print(confusion_matrix(y_test_encoded, y_pred_logistic))"
   ]
  },
  {
   "cell_type": "markdown",
   "metadata": {},
   "source": [
    "We witnessed a significant performance drop associated with the noise in the data. In real environment, this issue can be attributed to misspelling and mistyping. One way to tackle this problem is to run the our data through a spell checker."
   ]
  },
  {
   "cell_type": "markdown",
   "metadata": {},
   "source": [
    "## Additional Strategies to Explore:"
   ]
  },
  {
   "cell_type": "markdown",
   "metadata": {},
   "source": [
    "In the future, this project can be improved by experimenting with alternative feature generation methods, e.g. application of Latent Semantic Analysis and creation of latent semantic components and n-grams instead of single tokens."
   ]
  },
  {
   "cell_type": "code",
   "execution_count": null,
   "metadata": {},
   "outputs": [],
   "source": []
  }
 ],
 "metadata": {
  "kernelspec": {
   "display_name": "Python 3",
   "language": "python",
   "name": "python3"
  },
  "language_info": {
   "codemirror_mode": {
    "name": "ipython",
    "version": 3
   },
   "file_extension": ".py",
   "mimetype": "text/x-python",
   "name": "python",
   "nbconvert_exporter": "python",
   "pygments_lexer": "ipython3",
   "version": "3.6.5"
  }
 },
 "nbformat": 4,
 "nbformat_minor": 2
}
