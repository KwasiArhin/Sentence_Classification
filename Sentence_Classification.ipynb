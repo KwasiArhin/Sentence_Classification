{
 "cells": [
  {
   "cell_type": "code",
   "execution_count": 1,
   "metadata": {},
   "outputs": [],
   "source": [
    "import numpy as np\n",
    "import pandas as pd\n",
    "import scipy\n",
    "import matplotlib.pyplot as plt\n",
    "import seaborn as sns\n",
    "%matplotlib inline\n",
    "import spacy\n",
    "from sklearn.model_selection import train_test_split\n",
    "from sklearn.ensemble import RandomForestClassifier\n",
    "from xgboost import XGBClassifier\n",
    "from sklearn.model_selection import cross_val_score, GridSearchCV\n",
    "from sklearn.metrics import confusion_matrix\n",
    "from sklearn.metrics import roc_auc_score, roc_curve, auc\n",
    "from scipy import interp\n",
    "from itertools import cycle\n",
    "import random\n",
    "import string\n",
    "\n",
    "import warnings\n",
    "warnings.filterwarnings('ignore')"
   ]
  },
  {
   "cell_type": "markdown",
   "metadata": {},
   "source": [
    "## Loading The Articles"
   ]
  },
  {
   "cell_type": "code",
   "execution_count": 2,
   "metadata": {},
   "outputs": [],
   "source": [
    "import os  \n",
    "path = '/Users/admin/Documents/SentenceCorpus/labeled_articles/'\n",
    "all_files = os.listdir(path)"
   ]
  },
  {
   "cell_type": "code",
   "execution_count": 3,
   "metadata": {},
   "outputs": [
    {
     "name": "stdout",
     "output_type": "stream",
     "text": [
      "['jdm_annotate3_120_1.txt', 'plos_annotate5_1375_2.txt', 'jdm_annotate2_107_1.txt', 'arxiv_annotate10_7_1.txt', 'plos_annotate5_1375_3.txt', 'plos_annotate10_1140_1.txt', 'plos_annotate10_1140_3.txt', 'plos_annotate5_1375_1.txt', 'jdm_annotate3_120_2.txt', 'jdm_annotate2_107_2.txt', 'arxiv_annotate10_7_3.txt', 'arxiv_annotate10_7_2.txt', 'jdm_annotate2_107_3.txt', 'jdm_annotate3_120_3.txt', 'plos_annotate10_1140_2.txt', 'plos_annotate7_1233_1.txt', 'arxiv_annotate7_268_3.txt', '.DS_Store', 'jdm_annotate4_220_3.txt', 'jdm_annotate4_220_2.txt', 'arxiv_annotate9_279_1.txt', 'arxiv_annotate7_268_2.txt', 'plos_annotate8_123_1.txt', 'plos_annotate7_1233_2.txt', 'plos_annotate8_123_3.txt', 'arxiv_annotate9_279_3.txt', 'jdm_annotate4_220_1.txt', 'arxiv_annotate9_279_2.txt', 'arxiv_annotate7_268_1.txt', 'plos_annotate8_123_2.txt', 'plos_annotate7_1233_3.txt', 'jdm_annotate10_210_3.txt', 'arxiv_annotate5_240_1.txt', 'jdm_annotate10_210_2.txt', 'arxiv_annotate5_240_2.txt', 'arxiv_annotate5_240_3.txt', 'jdm_annotate10_210_1.txt', 'plos_annotate9_1187_2.txt', 'plos_annotate1_6_3.txt', 'plos_annotate9_1187_3.txt', 'plos_annotate1_6_2.txt', 'plos_annotate9_1187_1.txt', 'plos_annotate1_6_1.txt', 'arxiv_annotate1_13_1.txt', 'arxiv_annotate2_66_3.txt', 'arxiv_annotate2_66_2.txt', 'arxiv_annotate3_80_1.txt', 'arxiv_annotate3_80_3.txt', 'arxiv_annotate1_13_2.txt', 'arxiv_annotate2_66_1.txt', 'arxiv_annotate1_13_3.txt', 'arxiv_annotate3_80_2.txt', 'arxiv_annotate4_168_1.txt', 'jdm_annotate8_177_3.txt', 'jdm_annotate5_228_3.txt', 'plos_annotate4_1052_1.txt', 'jdm_annotate9_45_2.txt', 'plos_annotate6_1032_2.txt', 'plos_annotate6_1032_3.txt', 'jdm_annotate9_45_3.txt', 'jdm_annotate5_228_2.txt', 'jdm_annotate8_177_2.txt', 'arxiv_annotate4_168_2.txt', 'plos_annotate4_1052_2.txt', 'jdm_annotate9_45_1.txt', 'plos_annotate6_1032_1.txt', 'plos_annotate4_1052_3.txt', 'jdm_annotate5_228_1.txt', 'jdm_annotate8_177_1.txt', 'arxiv_annotate4_168_3.txt', 'plos_annotate2_336_1.txt', 'jdm_annotate6_32_1.txt', 'arxiv_annotate6_52_3.txt', 'arxiv_annotate6_52_2.txt', 'arxiv_annotate8_81_1.txt', 'plos_annotate2_336_2.txt', 'arxiv_annotate8_81_3.txt', 'jdm_annotate6_32_2.txt', 'arxiv_annotate6_52_1.txt', 'jdm_annotate6_32_3.txt', 'arxiv_annotate8_81_2.txt', 'plos_annotate2_336_3.txt', 'plos_annotate3_798_2.txt', 'jdm_annotate7_265_2.txt', 'jdm_annotate1_103_2.txt', 'jdm_annotate1_103_3.txt', 'jdm_annotate7_265_3.txt', 'plos_annotate3_798_3.txt', 'plos_annotate3_798_1.txt', 'jdm_annotate7_265_1.txt', 'jdm_annotate1_103_1.txt']\n"
     ]
    }
   ],
   "source": [
    "print(all_files)"
   ]
  },
  {
   "cell_type": "code",
   "execution_count": 4,
   "metadata": {},
   "outputs": [],
   "source": [
    "all_files = [file for file in all_files if file != '.DS_Store']"
   ]
  },
  {
   "cell_type": "code",
   "execution_count": 5,
   "metadata": {},
   "outputs": [],
   "source": [
    "articles = pd.DataFrame(np.zeros(4000))\n",
    "num = 0\n",
    "\n",
    "for file in all_files: \n",
    "    doc = open(path+file)\n",
    "    read = doc.readlines()\n",
    "    end = len(read)\n",
    "    new_array = np.array([[line] for line in read if (line != '### abstract ###\\n' and line != '### introduction ###\\n')])\n",
    "    end = len(new_array)-1\n",
    "    articles.loc[num:num+end] = new_array\n",
    "    num+=end\n",
    "       "
   ]
  },
  {
   "cell_type": "code",
   "execution_count": 6,
   "metadata": {},
   "outputs": [],
   "source": [
    "articles = articles[articles[0]!= 0]"
   ]
  },
  {
   "cell_type": "code",
   "execution_count": 7,
   "metadata": {},
   "outputs": [
    {
     "data": {
      "text/html": [
       "<div>\n",
       "<style scoped>\n",
       "    .dataframe tbody tr th:only-of-type {\n",
       "        vertical-align: middle;\n",
       "    }\n",
       "\n",
       "    .dataframe tbody tr th {\n",
       "        vertical-align: top;\n",
       "    }\n",
       "\n",
       "    .dataframe thead th {\n",
       "        text-align: right;\n",
       "    }\n",
       "</style>\n",
       "<table border=\"1\" class=\"dataframe\">\n",
       "  <thead>\n",
       "    <tr style=\"text-align: right;\">\n",
       "      <th></th>\n",
       "      <th>0</th>\n",
       "    </tr>\n",
       "  </thead>\n",
       "  <tbody>\n",
       "    <tr>\n",
       "      <th>0</th>\n",
       "      <td>AIMX\\twe test in the context of a dictator gam...</td>\n",
       "    </tr>\n",
       "    <tr>\n",
       "      <th>1</th>\n",
       "      <td>OWNX\\twe manipulated the likelihood that indiv...</td>\n",
       "    </tr>\n",
       "    <tr>\n",
       "      <th>2</th>\n",
       "      <td>OWNX\\tour analysis reveals a positive and sign...</td>\n",
       "    </tr>\n",
       "    <tr>\n",
       "      <th>3</th>\n",
       "      <td>OWNX\\tthe magnitude of the effect is of econom...</td>\n",
       "    </tr>\n",
       "    <tr>\n",
       "      <th>4</th>\n",
       "      <td>OWNX\\twe conclude that subtle cues might prove...</td>\n",
       "    </tr>\n",
       "  </tbody>\n",
       "</table>\n",
       "</div>"
      ],
      "text/plain": [
       "                                                   0\n",
       "0  AIMX\\twe test in the context of a dictator gam...\n",
       "1  OWNX\\twe manipulated the likelihood that indiv...\n",
       "2  OWNX\\tour analysis reveals a positive and sign...\n",
       "3  OWNX\\tthe magnitude of the effect is of econom...\n",
       "4  OWNX\\twe conclude that subtle cues might prove..."
      ]
     },
     "execution_count": 7,
     "metadata": {},
     "output_type": "execute_result"
    }
   ],
   "source": [
    "articles.head()"
   ]
  },
  {
   "cell_type": "code",
   "execution_count": 8,
   "metadata": {},
   "outputs": [
    {
     "data": {
      "text/plain": [
       "(3028, 1)"
      ]
     },
     "execution_count": 8,
     "metadata": {},
     "output_type": "execute_result"
    }
   ],
   "source": [
    "articles.shape"
   ]
  },
  {
   "cell_type": "markdown",
   "metadata": {},
   "source": [
    "## Cleaning The Sentences"
   ]
  },
  {
   "cell_type": "code",
   "execution_count": 9,
   "metadata": {},
   "outputs": [],
   "source": [
    "import re\n",
    "\n",
    "pattern = re.compile(r'\\b[A-Z]+\\b')"
   ]
  },
  {
   "cell_type": "code",
   "execution_count": 10,
   "metadata": {},
   "outputs": [],
   "source": [
    "def splitter(row):\n",
    "    pattern = re.compile(r'\\b[A-Z]+\\b')   \n",
    "    #if the article follows the \\t format\n",
    "    try:\n",
    "        first_part, second_part = row[0].split('\\t')\n",
    "        \n",
    "    #if the article doesn't follow the \\t format\n",
    "    except (ValueError, TypeError):\n",
    "        #match the pattern and extract the index\n",
    "        #print(pattern.match(list(row)[0]).span()[1])\n",
    "        div_index = pattern.match(list(row)[0]).span()[1]\n",
    "        first_part, second_part = row[0][:div_index], row[0][div_index+1:]\n",
    "    print('ONE!!!', first_part, 'TWO!!!!', second_part)\n",
    "    return second_part, first_part"
   ]
  },
  {
   "cell_type": "code",
   "execution_count": 11,
   "metadata": {},
   "outputs": [],
   "source": [
    "labels = []\n",
    "texts = []\n",
    "for row in articles[0]:\n",
    "    try:\n",
    "        first_part, second_part = row.split('\\t')\n",
    "        \n",
    "    #if the article doesn't follow the \\t format\n",
    "    except (ValueError, TypeError):\n",
    "        #match the pattern and extract the index\n",
    "        div_index = pattern.match(row).span()[1]\n",
    "        first_part, second_part = row[:div_index], row[div_index+1:]\n",
    "    labels.append(first_part.strip())\n",
    "    texts.append(second_part.strip())"
   ]
  },
  {
   "cell_type": "code",
   "execution_count": 12,
   "metadata": {},
   "outputs": [
    {
     "data": {
      "text/plain": [
       "3028"
      ]
     },
     "execution_count": 12,
     "metadata": {},
     "output_type": "execute_result"
    }
   ],
   "source": [
    "len(labels)"
   ]
  },
  {
   "cell_type": "code",
   "execution_count": 13,
   "metadata": {},
   "outputs": [],
   "source": [
    "articles['texts'] = texts\n",
    "articles['labels'] = labels"
   ]
  },
  {
   "cell_type": "code",
   "execution_count": 14,
   "metadata": {},
   "outputs": [
    {
     "data": {
      "text/html": [
       "<div>\n",
       "<style scoped>\n",
       "    .dataframe tbody tr th:only-of-type {\n",
       "        vertical-align: middle;\n",
       "    }\n",
       "\n",
       "    .dataframe tbody tr th {\n",
       "        vertical-align: top;\n",
       "    }\n",
       "\n",
       "    .dataframe thead th {\n",
       "        text-align: right;\n",
       "    }\n",
       "</style>\n",
       "<table border=\"1\" class=\"dataframe\">\n",
       "  <thead>\n",
       "    <tr style=\"text-align: right;\">\n",
       "      <th></th>\n",
       "      <th>0</th>\n",
       "      <th>texts</th>\n",
       "      <th>labels</th>\n",
       "    </tr>\n",
       "  </thead>\n",
       "  <tbody>\n",
       "    <tr>\n",
       "      <th>0</th>\n",
       "      <td>AIMX\\twe test in the context of a dictator gam...</td>\n",
       "      <td>we test in the context of a dictator game the ...</td>\n",
       "      <td>AIMX</td>\n",
       "    </tr>\n",
       "    <tr>\n",
       "      <th>1</th>\n",
       "      <td>OWNX\\twe manipulated the likelihood that indiv...</td>\n",
       "      <td>we manipulated the likelihood that individuals...</td>\n",
       "      <td>OWNX</td>\n",
       "    </tr>\n",
       "    <tr>\n",
       "      <th>2</th>\n",
       "      <td>OWNX\\tour analysis reveals a positive and sign...</td>\n",
       "      <td>our analysis reveals a positive and significan...</td>\n",
       "      <td>OWNX</td>\n",
       "    </tr>\n",
       "    <tr>\n",
       "      <th>3</th>\n",
       "      <td>OWNX\\tthe magnitude of the effect is of econom...</td>\n",
       "      <td>the magnitude of the effect is of economic sig...</td>\n",
       "      <td>OWNX</td>\n",
       "    </tr>\n",
       "    <tr>\n",
       "      <th>4</th>\n",
       "      <td>OWNX\\twe conclude that subtle cues might prove...</td>\n",
       "      <td>we conclude that subtle cues might prove suffi...</td>\n",
       "      <td>OWNX</td>\n",
       "    </tr>\n",
       "  </tbody>\n",
       "</table>\n",
       "</div>"
      ],
      "text/plain": [
       "                                                   0  \\\n",
       "0  AIMX\\twe test in the context of a dictator gam...   \n",
       "1  OWNX\\twe manipulated the likelihood that indiv...   \n",
       "2  OWNX\\tour analysis reveals a positive and sign...   \n",
       "3  OWNX\\tthe magnitude of the effect is of econom...   \n",
       "4  OWNX\\twe conclude that subtle cues might prove...   \n",
       "\n",
       "                                               texts labels  \n",
       "0  we test in the context of a dictator game the ...   AIMX  \n",
       "1  we manipulated the likelihood that individuals...   OWNX  \n",
       "2  our analysis reveals a positive and significan...   OWNX  \n",
       "3  the magnitude of the effect is of economic sig...   OWNX  \n",
       "4  we conclude that subtle cues might prove suffi...   OWNX  "
      ]
     },
     "execution_count": 14,
     "metadata": {},
     "output_type": "execute_result"
    }
   ],
   "source": [
    "articles.head()"
   ]
  },
  {
   "cell_type": "code",
   "execution_count": 15,
   "metadata": {},
   "outputs": [
    {
     "data": {
      "text/plain": [
       "3028"
      ]
     },
     "execution_count": 15,
     "metadata": {},
     "output_type": "execute_result"
    }
   ],
   "source": [
    "len(texts)"
   ]
  },
  {
   "cell_type": "markdown",
   "metadata": {},
   "source": [
    "## Unique Data - Removal of Duplicate Sentences"
   ]
  },
  {
   "cell_type": "markdown",
   "metadata": {},
   "source": [
    "It turns out that a large portion of the sentences appears in more than one article. For more accurate modelling, we will remove all such sentences from the data set."
   ]
  },
  {
   "cell_type": "code",
   "execution_count": 16,
   "metadata": {},
   "outputs": [
    {
     "data": {
      "text/plain": [
       "1293"
      ]
     },
     "execution_count": 16,
     "metadata": {},
     "output_type": "execute_result"
    }
   ],
   "source": [
    "#apparently not all sentences in our data set are unique\n",
    "articles['texts'].nunique()"
   ]
  },
  {
   "cell_type": "code",
   "execution_count": 17,
   "metadata": {},
   "outputs": [],
   "source": [
    "articles = articles.iloc[:, 1:]"
   ]
  },
  {
   "cell_type": "code",
   "execution_count": 18,
   "metadata": {},
   "outputs": [
    {
     "data": {
      "text/plain": [
       "texts     1293\n",
       "labels       5\n",
       "dtype: int64"
      ]
     },
     "execution_count": 18,
     "metadata": {},
     "output_type": "execute_result"
    }
   ],
   "source": [
    "articles.nunique()"
   ]
  },
  {
   "cell_type": "code",
   "execution_count": 19,
   "metadata": {},
   "outputs": [],
   "source": [
    "no_dup_articles = articles.drop_duplicates(subset=['texts'])"
   ]
  },
  {
   "cell_type": "code",
   "execution_count": 20,
   "metadata": {},
   "outputs": [
    {
     "data": {
      "text/plain": [
       "texts     1293\n",
       "labels       5\n",
       "dtype: int64"
      ]
     },
     "execution_count": 20,
     "metadata": {},
     "output_type": "execute_result"
    }
   ],
   "source": [
    "no_dup_articles.nunique()"
   ]
  },
  {
   "cell_type": "markdown",
   "metadata": {},
   "source": [
    "## Train Test Split"
   ]
  },
  {
   "cell_type": "code",
   "execution_count": 21,
   "metadata": {},
   "outputs": [],
   "source": [
    "X = no_dup_articles['texts']\n",
    "y=no_dup_articles['labels']\n",
    "\n",
    "X_train, X_test, y_train, y_test = train_test_split(X, y, test_size=0.3, random_state=108)"
   ]
  },
  {
   "cell_type": "code",
   "execution_count": 22,
   "metadata": {},
   "outputs": [
    {
     "data": {
      "text/plain": [
       "905"
      ]
     },
     "execution_count": 22,
     "metadata": {},
     "output_type": "execute_result"
    }
   ],
   "source": [
    "len(X_train)"
   ]
  },
  {
   "cell_type": "code",
   "execution_count": 23,
   "metadata": {},
   "outputs": [
    {
     "data": {
      "text/plain": [
       "388"
      ]
     },
     "execution_count": 23,
     "metadata": {},
     "output_type": "execute_result"
    }
   ],
   "source": [
    "len(X_test)"
   ]
  },
  {
   "cell_type": "markdown",
   "metadata": {},
   "source": [
    "## Class Imbalance"
   ]
  },
  {
   "cell_type": "code",
   "execution_count": 24,
   "metadata": {},
   "outputs": [
    {
     "data": {
      "text/plain": [
       "(array(['AIMX', 'BASE', 'CONT', 'MISC', 'OWNX'], dtype=object),\n",
       " array([ 61,  21,  51, 535, 237]))"
      ]
     },
     "execution_count": 24,
     "metadata": {},
     "output_type": "execute_result"
    }
   ],
   "source": [
    "np.unique(y_train, return_counts=True)"
   ]
  },
  {
   "cell_type": "code",
   "execution_count": 25,
   "metadata": {},
   "outputs": [
    {
     "data": {
      "image/png": "[encoded data removed]",
      "text/plain": [
       "<Figure size 1080x504 with 1 Axes>"
      ]
     },
     "metadata": {
      "needs_background": "light"
     },
     "output_type": "display_data"
    }
   ],
   "source": [
    "plt.figure(figsize=(15,7))\n",
    "\n",
    "sns.countplot(x=y_train)\n",
    "plt.title('Sentences By Label')\n",
    "plt.xlabel('Sentence Labels In The Training Set')\n",
    "plt.ylabel('Counts')\n",
    "plt.show()"
   ]
  },
  {
   "cell_type": "code",
   "execution_count": 438,
   "metadata": {},
   "outputs": [],
   "source": [
    "#preprocessing\n",
    "\n",
    "nlp = spacy.load('en')\n",
    "\n",
    "# since we have a rather small corpus, it makes sense to lemmatize all words\n",
    "\n",
    "def processor(data, lemmatize=True):\n",
    "    lemmas = []\n",
    "    for entry in data:\n",
    "        entry_parsed = nlp(entry)\n",
    "        string = ''\n",
    "        for token in entry_parsed:\n",
    "            if (not token.is_punct\n",
    "                and not token.is_stop # remove all the stop words\n",
    "                and token.pos_ !='NUM'): \n",
    "                if lemmatize ==True:\n",
    "                    string += token.lemma_ + ' '\n",
    "                else:\n",
    "                    string += str(token)+ ' '\n",
    "                string = string.replace('-', '')\n",
    "                string = string.replace('PRON', '')\n",
    "                \n",
    "        lemmas.append(string.rstrip())\n",
    " \n",
    "    return lemmas\n"
   ]
  },
  {
   "cell_type": "code",
   "execution_count": null,
   "metadata": {},
   "outputs": [],
   "source": [
    "X_train_processed = processor(X_train)"
   ]
  },
  {
   "cell_type": "code",
   "execution_count": 293,
   "metadata": {},
   "outputs": [
    {
     "data": {
      "text/plain": [
       "['importantly iapp rodent specie rat mouse iapp lose capacity aggregate amyloid fibril citation transgenic mouse model express human iapp develop islet deposit citation',\n",
       " ' obvious proof paper conditionaliz',\n",
       " 'case low likelihood slope expect weakly positive',\n",
       " 'furthermore convert mathematical model quantitatively integrate gene expression datum reaction constraint compute functional network state compare report experimental datum',\n",
       " 'in paper introduce radically new approach base machine learning technique map ases internet natural as taxonomy']"
      ]
     },
     "execution_count": 293,
     "metadata": {},
     "output_type": "execute_result"
    }
   ],
   "source": [
    "X_train_processed[:5]"
   ]
  },
  {
   "cell_type": "code",
   "execution_count": 294,
   "metadata": {},
   "outputs": [],
   "source": [
    "X_test_processed = processor(X_test)"
   ]
  },
  {
   "cell_type": "markdown",
   "metadata": {},
   "source": [
    "### One-Hot Encoding for Classes"
   ]
  },
  {
   "cell_type": "code",
   "execution_count": 28,
   "metadata": {},
   "outputs": [],
   "source": [
    "from sklearn.preprocessing import LabelEncoder\n",
    "\n",
    "encoder = LabelEncoder()\n",
    "\n",
    "y_train_encoded = encoder.fit_transform(y_train)"
   ]
  },
  {
   "cell_type": "code",
   "execution_count": 29,
   "metadata": {},
   "outputs": [],
   "source": [
    "y_test_encoded = encoder.transform(y_test)"
   ]
  },
  {
   "cell_type": "markdown",
   "metadata": {},
   "source": [
    "## Oversampling"
   ]
  },
  {
   "cell_type": "code",
   "execution_count": 30,
   "metadata": {},
   "outputs": [],
   "source": [
    "X_train_concat = pd.DataFrame({'texts': X_train_processed, 'classes': y_train_encoded})"
   ]
  },
  {
   "cell_type": "code",
   "execution_count": 31,
   "metadata": {},
   "outputs": [
    {
     "data": {
      "text/html": [
       "<div>\n",
       "<style scoped>\n",
       "    .dataframe tbody tr th:only-of-type {\n",
       "        vertical-align: middle;\n",
       "    }\n",
       "\n",
       "    .dataframe tbody tr th {\n",
       "        vertical-align: top;\n",
       "    }\n",
       "\n",
       "    .dataframe thead th {\n",
       "        text-align: right;\n",
       "    }\n",
       "</style>\n",
       "<table border=\"1\" class=\"dataframe\">\n",
       "  <thead>\n",
       "    <tr style=\"text-align: right;\">\n",
       "      <th></th>\n",
       "      <th>texts</th>\n",
       "      <th>classes</th>\n",
       "    </tr>\n",
       "  </thead>\n",
       "  <tbody>\n",
       "    <tr>\n",
       "      <th>0</th>\n",
       "      <td>importantly iapp from rodent specie such as ra...</td>\n",
       "      <td>3</td>\n",
       "    </tr>\n",
       "    <tr>\n",
       "      <th>1</th>\n",
       "      <td>be not obvious if and how the proof in this p...</td>\n",
       "      <td>4</td>\n",
       "    </tr>\n",
       "    <tr>\n",
       "      <th>2</th>\n",
       "      <td>in the case of low likelihood the slope be exp...</td>\n",
       "      <td>4</td>\n",
       "    </tr>\n",
       "    <tr>\n",
       "      <th>3</th>\n",
       "      <td>furthermore  be convert into a mathematical mo...</td>\n",
       "      <td>4</td>\n",
       "    </tr>\n",
       "    <tr>\n",
       "      <th>4</th>\n",
       "      <td>in this paper  introduce a radically new appro...</td>\n",
       "      <td>0</td>\n",
       "    </tr>\n",
       "  </tbody>\n",
       "</table>\n",
       "</div>"
      ],
      "text/plain": [
       "                                               texts  classes\n",
       "0  importantly iapp from rodent specie such as ra...        3\n",
       "1   be not obvious if and how the proof in this p...        4\n",
       "2  in the case of low likelihood the slope be exp...        4\n",
       "3  furthermore  be convert into a mathematical mo...        4\n",
       "4  in this paper  introduce a radically new appro...        0"
      ]
     },
     "execution_count": 31,
     "metadata": {},
     "output_type": "execute_result"
    }
   ],
   "source": [
    "X_train_concat.head()"
   ]
  },
  {
   "cell_type": "code",
   "execution_count": 32,
   "metadata": {},
   "outputs": [
    {
     "data": {
      "text/plain": [
       "(array([0, 1, 2, 3, 4]), array([ 61,  21,  51, 535, 237]))"
      ]
     },
     "execution_count": 32,
     "metadata": {},
     "output_type": "execute_result"
    }
   ],
   "source": [
    "np.unique(X_train_concat['classes'], return_counts=True)"
   ]
  },
  {
   "cell_type": "code",
   "execution_count": 33,
   "metadata": {},
   "outputs": [],
   "source": [
    "# resampling data to tackle class imbalance\n",
    "\n",
    "X_train_zero = (X_train_concat[X_train_concat['classes']==0]).sample(535, random_state=108, replace=True)\n",
    "X_train_one = (X_train_concat[X_train_concat['classes']==1]).sample(535, random_state=108, replace=True)\n",
    "X_train_two = (X_train_concat[X_train_concat['classes']==2]).sample(535, random_state=108, replace=True)\n",
    "X_train_three = X_train_concat[X_train_concat['classes']==3]\n",
    "X_train_four = (X_train_concat[X_train_concat['classes']==4]).sample(535, random_state=108, replace=True)"
   ]
  },
  {
   "cell_type": "code",
   "execution_count": 38,
   "metadata": {},
   "outputs": [],
   "source": [
    "X_train_balanced_over = pd.concat([X_train_zero\n",
    "                                  ,X_train_one\n",
    "                                  ,X_train_two\n",
    "                                  ,X_train_three \n",
    "                                  ,X_train_four], axis=0, ignore_index=True)"
   ]
  },
  {
   "cell_type": "code",
   "execution_count": null,
   "metadata": {},
   "outputs": [],
   "source": [
    "X_train_balanced_over.shape"
   ]
  },
  {
   "cell_type": "code",
   "execution_count": null,
   "metadata": {},
   "outputs": [],
   "source": [
    "X_train_balanced_over = X_train_balanced_over.sample(2675)"
   ]
  },
  {
   "cell_type": "code",
   "execution_count": 39,
   "metadata": {},
   "outputs": [
    {
     "data": {
      "text/plain": [
       "(array([0, 1, 2, 3, 4]), array([535, 535, 535, 535, 535]))"
      ]
     },
     "execution_count": 39,
     "metadata": {},
     "output_type": "execute_result"
    }
   ],
   "source": [
    "np.unique(X_train_balanced_over['classes'], return_counts=True)"
   ]
  },
  {
   "cell_type": "markdown",
   "metadata": {},
   "source": [
    "## Feature Generation Strategy 1:\n",
    "## Binary Features for Words in the Vocabulary"
   ]
  },
  {
   "cell_type": "markdown",
   "metadata": {},
   "source": [
    "We will experiment with three training sets: original, with minority classes oversampled, and with majority classes undersampled."
   ]
  },
  {
   "cell_type": "code",
   "execution_count": 40,
   "metadata": {},
   "outputs": [],
   "source": [
    "path_lists = '/Users/admin/Documents/SentenceCorpus/word_lists/'\n",
    "all_lists = os.listdir(path_lists)\n",
    "\n",
    "all_lists = [file for file in all_lists if (file != '.svn' and file != '.DS_Store' and file != 'stopwords.txt')]\n",
    "\n",
    "vocabulary = []\n",
    "\n",
    "for file in all_lists: \n",
    "    doc = open(path_lists+file)\n",
    "    read = doc.readlines()\n",
    "    read = [word.replace('\\n', '') for word in read]\n",
    "    vocabulary.extend(read)\n",
    "\n",
    "vocab_set = set(vocabulary)"
   ]
  },
  {
   "cell_type": "markdown",
   "metadata": {},
   "source": [
    "### a) Creation of Binary Features for the Balanced Training Set"
   ]
  },
  {
   "cell_type": "code",
   "execution_count": 41,
   "metadata": {},
   "outputs": [],
   "source": [
    "#creating features for the training set\n",
    "for word in vocab_set:\n",
    "    X_train_balanced_over[str(word)] = X_train_balanced_over['texts'].str.contains(\n",
    "      ' ' +  str(word) + ' ',\n",
    "        case=False\n",
    "   )"
   ]
  },
  {
   "cell_type": "code",
   "execution_count": 42,
   "metadata": {},
   "outputs": [
    {
     "data": {
      "text/html": [
       "<div>\n",
       "<style scoped>\n",
       "    .dataframe tbody tr th:only-of-type {\n",
       "        vertical-align: middle;\n",
       "    }\n",
       "\n",
       "    .dataframe tbody tr th {\n",
       "        vertical-align: top;\n",
       "    }\n",
       "\n",
       "    .dataframe thead th {\n",
       "        text-align: right;\n",
       "    }\n",
       "</style>\n",
       "<table border=\"1\" class=\"dataframe\">\n",
       "  <thead>\n",
       "    <tr style=\"text-align: right;\">\n",
       "      <th></th>\n",
       "      <th>texts</th>\n",
       "      <th>classes</th>\n",
       "      <th>demonstrate</th>\n",
       "      <th>capture</th>\n",
       "      <th>without</th>\n",
       "      <th>observe</th>\n",
       "      <th>future</th>\n",
       "      <th>sparse</th>\n",
       "      <th>typically</th>\n",
       "      <th>significantly</th>\n",
       "      <th>...</th>\n",
       "      <th>interested</th>\n",
       "      <th>extended</th>\n",
       "      <th>shortcomings</th>\n",
       "      <th>identify</th>\n",
       "      <th>is</th>\n",
       "      <th>hypothesis</th>\n",
       "      <th>tailored</th>\n",
       "      <th>refined</th>\n",
       "      <th>establish</th>\n",
       "      <th>although</th>\n",
       "    </tr>\n",
       "  </thead>\n",
       "  <tbody>\n",
       "    <tr>\n",
       "      <th>0</th>\n",
       "      <td>to discover broad relationship between regulat...</td>\n",
       "      <td>0</td>\n",
       "      <td>False</td>\n",
       "      <td>True</td>\n",
       "      <td>False</td>\n",
       "      <td>False</td>\n",
       "      <td>False</td>\n",
       "      <td>False</td>\n",
       "      <td>False</td>\n",
       "      <td>False</td>\n",
       "      <td>...</td>\n",
       "      <td>False</td>\n",
       "      <td>False</td>\n",
       "      <td>False</td>\n",
       "      <td>False</td>\n",
       "      <td>False</td>\n",
       "      <td>False</td>\n",
       "      <td>False</td>\n",
       "      <td>False</td>\n",
       "      <td>False</td>\n",
       "      <td>False</td>\n",
       "    </tr>\n",
       "    <tr>\n",
       "      <th>1</th>\n",
       "      <td>this paper study quantum anneal   qa   for clu...</td>\n",
       "      <td>0</td>\n",
       "      <td>False</td>\n",
       "      <td>False</td>\n",
       "      <td>False</td>\n",
       "      <td>False</td>\n",
       "      <td>False</td>\n",
       "      <td>False</td>\n",
       "      <td>False</td>\n",
       "      <td>False</td>\n",
       "      <td>...</td>\n",
       "      <td>False</td>\n",
       "      <td>False</td>\n",
       "      <td>False</td>\n",
       "      <td>False</td>\n",
       "      <td>False</td>\n",
       "      <td>False</td>\n",
       "      <td>False</td>\n",
       "      <td>False</td>\n",
       "      <td>False</td>\n",
       "      <td>False</td>\n",
       "    </tr>\n",
       "    <tr>\n",
       "      <th>2</th>\n",
       "      <td>in this paper  attempt a more direct test of t...</td>\n",
       "      <td>0</td>\n",
       "      <td>False</td>\n",
       "      <td>False</td>\n",
       "      <td>False</td>\n",
       "      <td>False</td>\n",
       "      <td>False</td>\n",
       "      <td>False</td>\n",
       "      <td>False</td>\n",
       "      <td>False</td>\n",
       "      <td>...</td>\n",
       "      <td>False</td>\n",
       "      <td>False</td>\n",
       "      <td>False</td>\n",
       "      <td>False</td>\n",
       "      <td>False</td>\n",
       "      <td>True</td>\n",
       "      <td>False</td>\n",
       "      <td>False</td>\n",
       "      <td>False</td>\n",
       "      <td>False</td>\n",
       "    </tr>\n",
       "    <tr>\n",
       "      <th>3</th>\n",
       "      <td>in this paper  formalize   discuss   and motiv...</td>\n",
       "      <td>0</td>\n",
       "      <td>False</td>\n",
       "      <td>False</td>\n",
       "      <td>False</td>\n",
       "      <td>False</td>\n",
       "      <td>False</td>\n",
       "      <td>False</td>\n",
       "      <td>False</td>\n",
       "      <td>False</td>\n",
       "      <td>...</td>\n",
       "      <td>False</td>\n",
       "      <td>False</td>\n",
       "      <td>False</td>\n",
       "      <td>False</td>\n",
       "      <td>False</td>\n",
       "      <td>False</td>\n",
       "      <td>False</td>\n",
       "      <td>False</td>\n",
       "      <td>False</td>\n",
       "      <td>False</td>\n",
       "    </tr>\n",
       "    <tr>\n",
       "      <th>4</th>\n",
       "      <td>on the basis of the prospect theory value func...</td>\n",
       "      <td>0</td>\n",
       "      <td>False</td>\n",
       "      <td>False</td>\n",
       "      <td>False</td>\n",
       "      <td>False</td>\n",
       "      <td>True</td>\n",
       "      <td>False</td>\n",
       "      <td>False</td>\n",
       "      <td>False</td>\n",
       "      <td>...</td>\n",
       "      <td>False</td>\n",
       "      <td>False</td>\n",
       "      <td>False</td>\n",
       "      <td>False</td>\n",
       "      <td>False</td>\n",
       "      <td>False</td>\n",
       "      <td>False</td>\n",
       "      <td>False</td>\n",
       "      <td>False</td>\n",
       "      <td>False</td>\n",
       "    </tr>\n",
       "  </tbody>\n",
       "</table>\n",
       "<p>5 rows × 216 columns</p>\n",
       "</div>"
      ],
      "text/plain": [
       "                                               texts  classes  demonstrate  \\\n",
       "0  to discover broad relationship between regulat...        0        False   \n",
       "1  this paper study quantum anneal   qa   for clu...        0        False   \n",
       "2  in this paper  attempt a more direct test of t...        0        False   \n",
       "3  in this paper  formalize   discuss   and motiv...        0        False   \n",
       "4  on the basis of the prospect theory value func...        0        False   \n",
       "\n",
       "   capture  without  observe  future  sparse  typically  significantly  \\\n",
       "0     True    False    False   False   False      False          False   \n",
       "1    False    False    False   False   False      False          False   \n",
       "2    False    False    False   False   False      False          False   \n",
       "3    False    False    False   False   False      False          False   \n",
       "4    False    False    False    True   False      False          False   \n",
       "\n",
       "     ...     interested  extended  shortcomings  identify     is  hypothesis  \\\n",
       "0    ...          False     False         False     False  False       False   \n",
       "1    ...          False     False         False     False  False       False   \n",
       "2    ...          False     False         False     False  False        True   \n",
       "3    ...          False     False         False     False  False       False   \n",
       "4    ...          False     False         False     False  False       False   \n",
       "\n",
       "   tailored  refined  establish  although  \n",
       "0     False    False      False     False  \n",
       "1     False    False      False     False  \n",
       "2     False    False      False     False  \n",
       "3     False    False      False     False  \n",
       "4     False    False      False     False  \n",
       "\n",
       "[5 rows x 216 columns]"
      ]
     },
     "execution_count": 42,
     "metadata": {},
     "output_type": "execute_result"
    }
   ],
   "source": [
    "X_train_balanced_over.head()"
   ]
  },
  {
   "cell_type": "code",
   "execution_count": 43,
   "metadata": {},
   "outputs": [],
   "source": [
    "y_train_balanced_over_encoded = X_train_balanced_over['classes']"
   ]
  },
  {
   "cell_type": "code",
   "execution_count": 44,
   "metadata": {},
   "outputs": [],
   "source": [
    "#select only the vocabulary portion, no texts or classes\n",
    "X_train_binarized_vocab_over = X_train_balanced_over.iloc[:, 2:]"
   ]
  },
  {
   "cell_type": "code",
   "execution_count": 45,
   "metadata": {},
   "outputs": [],
   "source": [
    "X_train_binarized_vocab_over = X_train_binarized_vocab_over.reset_index()"
   ]
  },
  {
   "cell_type": "code",
   "execution_count": 46,
   "metadata": {},
   "outputs": [],
   "source": [
    "X_train_binarized_vocab_over = X_train_binarized_vocab_over.drop(['index'], axis=1)"
   ]
  },
  {
   "cell_type": "code",
   "execution_count": 47,
   "metadata": {},
   "outputs": [
    {
     "data": {
      "text/html": [
       "<div>\n",
       "<style scoped>\n",
       "    .dataframe tbody tr th:only-of-type {\n",
       "        vertical-align: middle;\n",
       "    }\n",
       "\n",
       "    .dataframe tbody tr th {\n",
       "        vertical-align: top;\n",
       "    }\n",
       "\n",
       "    .dataframe thead th {\n",
       "        text-align: right;\n",
       "    }\n",
       "</style>\n",
       "<table border=\"1\" class=\"dataframe\">\n",
       "  <thead>\n",
       "    <tr style=\"text-align: right;\">\n",
       "      <th></th>\n",
       "      <th>demonstrate</th>\n",
       "      <th>capture</th>\n",
       "      <th>without</th>\n",
       "      <th>observe</th>\n",
       "      <th>future</th>\n",
       "      <th>sparse</th>\n",
       "      <th>typically</th>\n",
       "      <th>significantly</th>\n",
       "      <th>exploit</th>\n",
       "      <th>reuse</th>\n",
       "      <th>...</th>\n",
       "      <th>interested</th>\n",
       "      <th>extended</th>\n",
       "      <th>shortcomings</th>\n",
       "      <th>identify</th>\n",
       "      <th>is</th>\n",
       "      <th>hypothesis</th>\n",
       "      <th>tailored</th>\n",
       "      <th>refined</th>\n",
       "      <th>establish</th>\n",
       "      <th>although</th>\n",
       "    </tr>\n",
       "  </thead>\n",
       "  <tbody>\n",
       "    <tr>\n",
       "      <th>0</th>\n",
       "      <td>False</td>\n",
       "      <td>True</td>\n",
       "      <td>False</td>\n",
       "      <td>False</td>\n",
       "      <td>False</td>\n",
       "      <td>False</td>\n",
       "      <td>False</td>\n",
       "      <td>False</td>\n",
       "      <td>False</td>\n",
       "      <td>False</td>\n",
       "      <td>...</td>\n",
       "      <td>False</td>\n",
       "      <td>False</td>\n",
       "      <td>False</td>\n",
       "      <td>False</td>\n",
       "      <td>False</td>\n",
       "      <td>False</td>\n",
       "      <td>False</td>\n",
       "      <td>False</td>\n",
       "      <td>False</td>\n",
       "      <td>False</td>\n",
       "    </tr>\n",
       "    <tr>\n",
       "      <th>1</th>\n",
       "      <td>False</td>\n",
       "      <td>False</td>\n",
       "      <td>False</td>\n",
       "      <td>False</td>\n",
       "      <td>False</td>\n",
       "      <td>False</td>\n",
       "      <td>False</td>\n",
       "      <td>False</td>\n",
       "      <td>False</td>\n",
       "      <td>False</td>\n",
       "      <td>...</td>\n",
       "      <td>False</td>\n",
       "      <td>False</td>\n",
       "      <td>False</td>\n",
       "      <td>False</td>\n",
       "      <td>False</td>\n",
       "      <td>False</td>\n",
       "      <td>False</td>\n",
       "      <td>False</td>\n",
       "      <td>False</td>\n",
       "      <td>False</td>\n",
       "    </tr>\n",
       "    <tr>\n",
       "      <th>2</th>\n",
       "      <td>False</td>\n",
       "      <td>False</td>\n",
       "      <td>False</td>\n",
       "      <td>False</td>\n",
       "      <td>False</td>\n",
       "      <td>False</td>\n",
       "      <td>False</td>\n",
       "      <td>False</td>\n",
       "      <td>False</td>\n",
       "      <td>False</td>\n",
       "      <td>...</td>\n",
       "      <td>False</td>\n",
       "      <td>False</td>\n",
       "      <td>False</td>\n",
       "      <td>False</td>\n",
       "      <td>False</td>\n",
       "      <td>True</td>\n",
       "      <td>False</td>\n",
       "      <td>False</td>\n",
       "      <td>False</td>\n",
       "      <td>False</td>\n",
       "    </tr>\n",
       "    <tr>\n",
       "      <th>3</th>\n",
       "      <td>False</td>\n",
       "      <td>False</td>\n",
       "      <td>False</td>\n",
       "      <td>False</td>\n",
       "      <td>False</td>\n",
       "      <td>False</td>\n",
       "      <td>False</td>\n",
       "      <td>False</td>\n",
       "      <td>False</td>\n",
       "      <td>False</td>\n",
       "      <td>...</td>\n",
       "      <td>False</td>\n",
       "      <td>False</td>\n",
       "      <td>False</td>\n",
       "      <td>False</td>\n",
       "      <td>False</td>\n",
       "      <td>False</td>\n",
       "      <td>False</td>\n",
       "      <td>False</td>\n",
       "      <td>False</td>\n",
       "      <td>False</td>\n",
       "    </tr>\n",
       "    <tr>\n",
       "      <th>4</th>\n",
       "      <td>False</td>\n",
       "      <td>False</td>\n",
       "      <td>False</td>\n",
       "      <td>False</td>\n",
       "      <td>True</td>\n",
       "      <td>False</td>\n",
       "      <td>False</td>\n",
       "      <td>False</td>\n",
       "      <td>False</td>\n",
       "      <td>False</td>\n",
       "      <td>...</td>\n",
       "      <td>False</td>\n",
       "      <td>False</td>\n",
       "      <td>False</td>\n",
       "      <td>False</td>\n",
       "      <td>False</td>\n",
       "      <td>False</td>\n",
       "      <td>False</td>\n",
       "      <td>False</td>\n",
       "      <td>False</td>\n",
       "      <td>False</td>\n",
       "    </tr>\n",
       "  </tbody>\n",
       "</table>\n",
       "<p>5 rows × 214 columns</p>\n",
       "</div>"
      ],
      "text/plain": [
       "   demonstrate  capture  without  observe  future  sparse  typically  \\\n",
       "0        False     True    False    False   False   False      False   \n",
       "1        False    False    False    False   False   False      False   \n",
       "2        False    False    False    False   False   False      False   \n",
       "3        False    False    False    False   False   False      False   \n",
       "4        False    False    False    False    True   False      False   \n",
       "\n",
       "   significantly  exploit  reuse    ...     interested  extended  \\\n",
       "0          False    False  False    ...          False     False   \n",
       "1          False    False  False    ...          False     False   \n",
       "2          False    False  False    ...          False     False   \n",
       "3          False    False  False    ...          False     False   \n",
       "4          False    False  False    ...          False     False   \n",
       "\n",
       "   shortcomings  identify     is  hypothesis  tailored  refined  establish  \\\n",
       "0         False     False  False       False     False    False      False   \n",
       "1         False     False  False       False     False    False      False   \n",
       "2         False     False  False        True     False    False      False   \n",
       "3         False     False  False       False     False    False      False   \n",
       "4         False     False  False       False     False    False      False   \n",
       "\n",
       "   although  \n",
       "0     False  \n",
       "1     False  \n",
       "2     False  \n",
       "3     False  \n",
       "4     False  \n",
       "\n",
       "[5 rows x 214 columns]"
      ]
     },
     "execution_count": 47,
     "metadata": {},
     "output_type": "execute_result"
    }
   ],
   "source": [
    "X_train_binarized_vocab_over.head()"
   ]
  },
  {
   "cell_type": "markdown",
   "metadata": {},
   "source": [
    "### b) Creation of Binary Features for the Test Set"
   ]
  },
  {
   "cell_type": "code",
   "execution_count": 52,
   "metadata": {},
   "outputs": [],
   "source": [
    "X_test_df = pd.DataFrame(X_test_processed)"
   ]
  },
  {
   "cell_type": "code",
   "execution_count": 53,
   "metadata": {},
   "outputs": [],
   "source": [
    "for word in vocab_set:\n",
    "    X_test_df[str(word)] = X_test_df[0].str.contains(\n",
    "      ' ' +  str(word) + ' ',\n",
    "        case=False\n",
    "   )"
   ]
  },
  {
   "cell_type": "code",
   "execution_count": 54,
   "metadata": {},
   "outputs": [],
   "source": [
    "# select the test set without the texts\n",
    "X_test_binarized_vocab = X_test_df.iloc[:, 1:]"
   ]
  },
  {
   "cell_type": "code",
   "execution_count": 55,
   "metadata": {},
   "outputs": [
    {
     "data": {
      "text/html": [
       "<div>\n",
       "<style scoped>\n",
       "    .dataframe tbody tr th:only-of-type {\n",
       "        vertical-align: middle;\n",
       "    }\n",
       "\n",
       "    .dataframe tbody tr th {\n",
       "        vertical-align: top;\n",
       "    }\n",
       "\n",
       "    .dataframe thead th {\n",
       "        text-align: right;\n",
       "    }\n",
       "</style>\n",
       "<table border=\"1\" class=\"dataframe\">\n",
       "  <thead>\n",
       "    <tr style=\"text-align: right;\">\n",
       "      <th></th>\n",
       "      <th>demonstrate</th>\n",
       "      <th>capture</th>\n",
       "      <th>without</th>\n",
       "      <th>observe</th>\n",
       "      <th>future</th>\n",
       "      <th>sparse</th>\n",
       "      <th>typically</th>\n",
       "      <th>significantly</th>\n",
       "      <th>exploit</th>\n",
       "      <th>reuse</th>\n",
       "      <th>...</th>\n",
       "      <th>interested</th>\n",
       "      <th>extended</th>\n",
       "      <th>shortcomings</th>\n",
       "      <th>identify</th>\n",
       "      <th>is</th>\n",
       "      <th>hypothesis</th>\n",
       "      <th>tailored</th>\n",
       "      <th>refined</th>\n",
       "      <th>establish</th>\n",
       "      <th>although</th>\n",
       "    </tr>\n",
       "  </thead>\n",
       "  <tbody>\n",
       "    <tr>\n",
       "      <th>0</th>\n",
       "      <td>False</td>\n",
       "      <td>False</td>\n",
       "      <td>False</td>\n",
       "      <td>False</td>\n",
       "      <td>False</td>\n",
       "      <td>False</td>\n",
       "      <td>False</td>\n",
       "      <td>False</td>\n",
       "      <td>False</td>\n",
       "      <td>False</td>\n",
       "      <td>...</td>\n",
       "      <td>False</td>\n",
       "      <td>False</td>\n",
       "      <td>False</td>\n",
       "      <td>False</td>\n",
       "      <td>False</td>\n",
       "      <td>True</td>\n",
       "      <td>False</td>\n",
       "      <td>False</td>\n",
       "      <td>False</td>\n",
       "      <td>False</td>\n",
       "    </tr>\n",
       "    <tr>\n",
       "      <th>1</th>\n",
       "      <td>False</td>\n",
       "      <td>False</td>\n",
       "      <td>False</td>\n",
       "      <td>False</td>\n",
       "      <td>False</td>\n",
       "      <td>False</td>\n",
       "      <td>False</td>\n",
       "      <td>False</td>\n",
       "      <td>False</td>\n",
       "      <td>False</td>\n",
       "      <td>...</td>\n",
       "      <td>False</td>\n",
       "      <td>False</td>\n",
       "      <td>False</td>\n",
       "      <td>False</td>\n",
       "      <td>False</td>\n",
       "      <td>False</td>\n",
       "      <td>False</td>\n",
       "      <td>False</td>\n",
       "      <td>False</td>\n",
       "      <td>False</td>\n",
       "    </tr>\n",
       "    <tr>\n",
       "      <th>2</th>\n",
       "      <td>False</td>\n",
       "      <td>False</td>\n",
       "      <td>False</td>\n",
       "      <td>False</td>\n",
       "      <td>False</td>\n",
       "      <td>False</td>\n",
       "      <td>False</td>\n",
       "      <td>False</td>\n",
       "      <td>False</td>\n",
       "      <td>False</td>\n",
       "      <td>...</td>\n",
       "      <td>False</td>\n",
       "      <td>False</td>\n",
       "      <td>False</td>\n",
       "      <td>False</td>\n",
       "      <td>False</td>\n",
       "      <td>False</td>\n",
       "      <td>False</td>\n",
       "      <td>False</td>\n",
       "      <td>False</td>\n",
       "      <td>False</td>\n",
       "    </tr>\n",
       "    <tr>\n",
       "      <th>3</th>\n",
       "      <td>False</td>\n",
       "      <td>False</td>\n",
       "      <td>False</td>\n",
       "      <td>False</td>\n",
       "      <td>False</td>\n",
       "      <td>False</td>\n",
       "      <td>False</td>\n",
       "      <td>False</td>\n",
       "      <td>False</td>\n",
       "      <td>False</td>\n",
       "      <td>...</td>\n",
       "      <td>False</td>\n",
       "      <td>False</td>\n",
       "      <td>False</td>\n",
       "      <td>False</td>\n",
       "      <td>False</td>\n",
       "      <td>False</td>\n",
       "      <td>False</td>\n",
       "      <td>False</td>\n",
       "      <td>False</td>\n",
       "      <td>False</td>\n",
       "    </tr>\n",
       "    <tr>\n",
       "      <th>4</th>\n",
       "      <td>False</td>\n",
       "      <td>False</td>\n",
       "      <td>False</td>\n",
       "      <td>False</td>\n",
       "      <td>False</td>\n",
       "      <td>False</td>\n",
       "      <td>False</td>\n",
       "      <td>False</td>\n",
       "      <td>False</td>\n",
       "      <td>False</td>\n",
       "      <td>...</td>\n",
       "      <td>False</td>\n",
       "      <td>False</td>\n",
       "      <td>False</td>\n",
       "      <td>False</td>\n",
       "      <td>False</td>\n",
       "      <td>False</td>\n",
       "      <td>False</td>\n",
       "      <td>False</td>\n",
       "      <td>False</td>\n",
       "      <td>False</td>\n",
       "    </tr>\n",
       "  </tbody>\n",
       "</table>\n",
       "<p>5 rows × 214 columns</p>\n",
       "</div>"
      ],
      "text/plain": [
       "   demonstrate  capture  without  observe  future  sparse  typically  \\\n",
       "0        False    False    False    False   False   False      False   \n",
       "1        False    False    False    False   False   False      False   \n",
       "2        False    False    False    False   False   False      False   \n",
       "3        False    False    False    False   False   False      False   \n",
       "4        False    False    False    False   False   False      False   \n",
       "\n",
       "   significantly  exploit  reuse    ...     interested  extended  \\\n",
       "0          False    False  False    ...          False     False   \n",
       "1          False    False  False    ...          False     False   \n",
       "2          False    False  False    ...          False     False   \n",
       "3          False    False  False    ...          False     False   \n",
       "4          False    False  False    ...          False     False   \n",
       "\n",
       "   shortcomings  identify     is  hypothesis  tailored  refined  establish  \\\n",
       "0         False     False  False        True     False    False      False   \n",
       "1         False     False  False       False     False    False      False   \n",
       "2         False     False  False       False     False    False      False   \n",
       "3         False     False  False       False     False    False      False   \n",
       "4         False     False  False       False     False    False      False   \n",
       "\n",
       "   although  \n",
       "0     False  \n",
       "1     False  \n",
       "2     False  \n",
       "3     False  \n",
       "4     False  \n",
       "\n",
       "[5 rows x 214 columns]"
      ]
     },
     "execution_count": 55,
     "metadata": {},
     "output_type": "execute_result"
    }
   ],
   "source": [
    "X_test_binarized_vocab.head()"
   ]
  },
  {
   "cell_type": "markdown",
   "metadata": {},
   "source": [
    "\"In a multi-class classification setup, micro-average is preferable if you suspect there might be class imbalance (i.e you may have many more examples of one class than of other classes)\" (https://datascience.stackexchange.com/questions/15989/micro-average-vs-macro-average-performance-in-a-multiclass-classification-settin/16001)"
   ]
  },
  {
   "cell_type": "code",
   "execution_count": 305,
   "metadata": {},
   "outputs": [],
   "source": [
    "#function roc_auc for multi_class\n",
    "from sklearn.preprocessing import LabelBinarizer\n",
    "lb = LabelBinarizer()\n",
    "lb.fit(y_test)\n",
    "\n",
    "def multiclass_roc_auc_score(y_test, y_pred, average='weighted'):\n",
    "    lb = LabelBinarizer()\n",
    "    y_test = lb.fit_transform(y_test)\n",
    "    y_pred = lb.transform(y_pred)\n",
    "    return roc_auc_score(y_test, y_pred, average=average)"
   ]
  },
  {
   "cell_type": "code",
   "execution_count": 306,
   "metadata": {},
   "outputs": [],
   "source": [
    "# turn it into a scorer\n",
    "from sklearn.metrics.scorer import make_scorer\n",
    "my_scorer = make_scorer(multiclass_roc_auc_score, greater_is_better=True)"
   ]
  },
  {
   "cell_type": "markdown",
   "metadata": {},
   "source": [
    "## Cross-Validation of Bernoulli Naive Bayes Model On The Training Set"
   ]
  },
  {
   "cell_type": "markdown",
   "metadata": {},
   "source": [
    "In this case, we will use Bernoulli Naive Bayes model to begin with because it is designed for binary features. These binary features we will create by parsing texts for the words included in the word lists in the file. This simplest model will give us a baseline for performance."
   ]
  },
  {
   "cell_type": "code",
   "execution_count": 58,
   "metadata": {},
   "outputs": [],
   "source": [
    "from sklearn.model_selection import cross_val_score\n",
    "from sklearn.naive_bayes import BernoulliNB\n",
    "from sklearn.multiclass import OneVsRestClassifier\n",
    "\n",
    "clf_nb = OneVsRestClassifier(BernoulliNB(fit_prior=True, class_prior=None))\n",
    "scores = cross_val_score(clf_nb , X_train_binarized_vocab_over, y_train_balanced_over_encoded, cv = 5)"
   ]
  },
  {
   "cell_type": "code",
   "execution_count": 59,
   "metadata": {},
   "outputs": [
    {
     "data": {
      "text/plain": [
       "0.6646728971962618"
      ]
     },
     "execution_count": 59,
     "metadata": {},
     "output_type": "execute_result"
    }
   ],
   "source": [
    "np.mean(scores)"
   ]
  },
  {
   "cell_type": "markdown",
   "metadata": {},
   "source": [
    "## Plotting and Performance Evaluation Utility Functions"
   ]
  },
  {
   "cell_type": "code",
   "execution_count": 206,
   "metadata": {},
   "outputs": [],
   "source": [
    "# roc-auc curve plotting function\n",
    "\n",
    "def roc_auc_plotting_mc(y_test, y_pred, n_classes):\n",
    "    lw=2\n",
    "    \n",
    "    lb = LabelBinarizer()\n",
    "    y_test_binarized = lb.fit_transform(y_test)\n",
    "    y_pred_binarized = lb.transform(y_pred)\n",
    "\n",
    "    fpr = dict()\n",
    "    tpr = dict()\n",
    "    roc_auc = dict()\n",
    "    \n",
    "    for i in range(n_classes):\n",
    "        fpr[i], tpr[i], _ = roc_curve(y_test_binarized[:, i], y_pred_binarized[:, i])\n",
    "        roc_auc[i] = auc(fpr[i], tpr[i])\n",
    "\n",
    "\n",
    "    fpr[\"micro\"], tpr[\"micro\"], _ = roc_curve(y_test_binarized.ravel(), y_pred_binarized.ravel())\n",
    "    roc_auc[\"micro\"] = auc(fpr[\"micro\"], tpr[\"micro\"])\n",
    "    \n",
    "    all_fpr = np.unique(np.concatenate([fpr[i] for i in range(n_classes)]))\n",
    "\n",
    "    \n",
    "    mean_tpr = np.zeros_like(all_fpr)\n",
    "    for i in range(n_classes):\n",
    "        mean_tpr += interp(all_fpr, fpr[i], tpr[i])\n",
    "\n",
    "\n",
    "    mean_tpr /= n_classes\n",
    "\n",
    "    fpr[\"macro\"] = all_fpr\n",
    "    tpr[\"macro\"] = mean_tpr\n",
    "    roc_auc[\"macro\"] = auc(fpr[\"macro\"], tpr[\"macro\"])\n",
    "\n",
    "\n",
    "    plt.figure(figsize=(10, 7))\n",
    "    plt.plot(fpr[\"micro\"], tpr[\"micro\"],\n",
    "             label='micro-average ROC curve (area = {0:0.2f})'\n",
    "                   ''.format(roc_auc[\"micro\"]),\n",
    "             color='deeppink', linestyle=':', linewidth=4)\n",
    "\n",
    "    plt.plot(fpr[\"macro\"], tpr[\"macro\"],\n",
    "             label='macro-average ROC curve (area = {0:0.2f})'\n",
    "                   ''.format(roc_auc[\"macro\"]),\n",
    "             color='navy', linestyle=':', linewidth=4)\n",
    "\n",
    "    colors = cycle(['aqua', 'darkorange', 'cornflowerblue'])\n",
    "    for i, color in zip(range(n_classes), colors):\n",
    "        plt.plot(fpr[i], tpr[i], color=color, lw=lw,\n",
    "                 label='ROC curve of class {0} (area = {1:0.2f})'\n",
    "                 ''.format(i, roc_auc[i]))\n",
    "\n",
    "    plt.plot([0, 1], [0, 1], 'k--', lw=lw)\n",
    "    plt.xlim([0.0, 1.0])\n",
    "    plt.ylim([0.0, 1.05])\n",
    "    plt.xlabel('False Positive Rate')\n",
    "    plt.ylabel('True Positive Rate')\n",
    "    plt.title('Sentence Classification Roc_Auc')\n",
    "    plt.legend(loc=\"lower right\")\n",
    "    plt.show()"
   ]
  },
  {
   "cell_type": "code",
   "execution_count": 324,
   "metadata": {},
   "outputs": [],
   "source": [
    "# performance report\n",
    "\n",
    "def model_report(y_test, y_pred, n_classes):\n",
    "    print('Macro Roc_Auc: ', multiclass_roc_auc_score(y_test, y_pred))\n",
    "    print('Micro Roc_Auc: ', multiclass_roc_auc_score(y_test, y_pred, 'micro'))\n",
    "    print('Weighted Roc_Auc: ', multiclass_roc_auc_score(y_test, y_pred, 'weighted'))\n",
    "    roc_auc_plotting_mc(y_test, y_pred, n_classes)\n",
    "    conf_matr = confusion_matrix(y_test, y_pred)\n",
    "    print('Confusion Matrix:','\\n', conf_matr)"
   ]
  },
  {
   "cell_type": "markdown",
   "metadata": {},
   "source": [
    "## Validation of The Naive Bayes Model On The Test Set"
   ]
  },
  {
   "cell_type": "code",
   "execution_count": 62,
   "metadata": {},
   "outputs": [],
   "source": [
    "clf_nb.fit(X_train_binarized_vocab_over, y_train_balanced_over_encoded)\n",
    "y_nb_pred = clf_nb.predict(X_test_binarized_vocab)"
   ]
  },
  {
   "cell_type": "markdown",
   "metadata": {},
   "source": [
    "lb = LabelBinarizer()\n",
    "y_test_binarized = lb.fit_transform(y_test_encoded)\n",
    "y_pred_binarized = lb.transform(y_nb_pred)"
   ]
  },
  {
   "cell_type": "code",
   "execution_count": null,
   "metadata": {},
   "outputs": [],
   "source": [
    "model_report(y_test_encoded, y_nb_pred, 5)"
   ]
  },
  {
   "cell_type": "code",
   "execution_count": null,
   "metadata": {},
   "outputs": [],
   "source": [
    "roc_auc_plotting_mc(y_test_encoded, y_nb_pred, 5)"
   ]
  },
  {
   "cell_type": "markdown",
   "metadata": {},
   "source": [
    "## Feature Generation Strategy 2:\n",
    "## TF IDF Matrix"
   ]
  },
  {
   "cell_type": "code",
   "execution_count": 243,
   "metadata": {},
   "outputs": [],
   "source": [
    "from sklearn.feature_extraction.text import TfidfVectorizer\n",
    "\n",
    "vectorizer_over = TfidfVectorizer(max_df=0.8, \n",
    "                             min_df=7, \n",
    "                             stop_words='english', \n",
    "                             lowercase=True, \n",
    "                             use_idf=True,\n",
    "                             norm=u'l2',\n",
    "                             smooth_idf=True\n",
    "                            )"
   ]
  },
  {
   "cell_type": "code",
   "execution_count": 244,
   "metadata": {},
   "outputs": [
    {
     "data": {
      "text/plain": [
       "0    to discover broad relationship between regulat...\n",
       "1    this paper study quantum anneal   qa   for clu...\n",
       "2    in this paper  attempt a more direct test of t...\n",
       "3    in this paper  formalize   discuss   and motiv...\n",
       "4    on the basis of the prospect theory value func...\n",
       "Name: texts, dtype: object"
      ]
     },
     "execution_count": 244,
     "metadata": {},
     "output_type": "execute_result"
    }
   ],
   "source": [
    "X_train_balanced_over['texts'].head()"
   ]
  },
  {
   "cell_type": "code",
   "execution_count": 245,
   "metadata": {},
   "outputs": [
    {
     "name": "stdout",
     "output_type": "stream",
     "text": [
      "Number of features: 955\n"
     ]
    }
   ],
   "source": [
    "X_train_tfidf_over=vectorizer_over.fit_transform(X_train_balanced_over['texts'])\n",
    "\n",
    "print(\"Number of features: %d\" % X_train_tfidf_over.get_shape()[1])"
   ]
  },
  {
   "cell_type": "code",
   "execution_count": 126,
   "metadata": {},
   "outputs": [],
   "source": [
    "X_test_tfidf_over = vectorizer_over.transform(X_test_processed)"
   ]
  },
  {
   "cell_type": "code",
   "execution_count": 296,
   "metadata": {},
   "outputs": [],
   "source": [
    "vectorizer_reg = TfidfVectorizer(max_df=0.8, \n",
    "                             min_df=7, \n",
    "                             stop_words='english', \n",
    "                             lowercase=True, \n",
    "                             use_idf=True,\n",
    "                             norm=u'l2',\n",
    "                             smooth_idf=True\n",
    "                            )"
   ]
  },
  {
   "cell_type": "code",
   "execution_count": 297,
   "metadata": {},
   "outputs": [
    {
     "name": "stdout",
     "output_type": "stream",
     "text": [
      "Number of features: 461\n"
     ]
    }
   ],
   "source": [
    "X_train_tfidf_reg=vectorizer_reg.fit_transform(X_train_processed)\n",
    "\n",
    "print(\"Number of features: %d\" % X_train_tfidf_reg.get_shape()[1])"
   ]
  },
  {
   "cell_type": "code",
   "execution_count": 298,
   "metadata": {},
   "outputs": [],
   "source": [
    "X_test_tfidf_reg = vectorizer_reg.transform(X_test_processed)"
   ]
  },
  {
   "cell_type": "markdown",
   "metadata": {},
   "source": [
    "## Logistic Regression"
   ]
  },
  {
   "cell_type": "code",
   "execution_count": 228,
   "metadata": {},
   "outputs": [],
   "source": [
    "from sklearn.linear_model import LogisticRegression\n",
    "from sklearn.model_selection import ParameterGrid\n",
    "\n",
    "param_grid = {'penalty': ['l1', 'l2'],\n",
    "             'C': [1e-3,1e-2,1e-1,1,1e1,1e2]}\n",
    "\n",
    "grid = ParameterGrid(param_grid)\n",
    "parameters = []\n",
    "scores = []\n",
    "\n",
    "for params in grid:\n",
    "    logistic = OneVsRestClassifier(LogisticRegression(**params))\n",
    "    score = cross_val_score(logistic , X_train_tfidf_over, y_train_balanced_over_encoded, cv = 5)\n",
    "    mean_score = score.mean()\n",
    "    parameters.append(params)\n",
    "    scores.append(mean_score)"
   ]
  },
  {
   "cell_type": "code",
   "execution_count": 229,
   "metadata": {},
   "outputs": [
    {
     "data": {
      "text/html": [
       "<div>\n",
       "<style scoped>\n",
       "    .dataframe tbody tr th:only-of-type {\n",
       "        vertical-align: middle;\n",
       "    }\n",
       "\n",
       "    .dataframe tbody tr th {\n",
       "        vertical-align: top;\n",
       "    }\n",
       "\n",
       "    .dataframe thead th {\n",
       "        text-align: right;\n",
       "    }\n",
       "</style>\n",
       "<table border=\"1\" class=\"dataframe\">\n",
       "  <thead>\n",
       "    <tr style=\"text-align: right;\">\n",
       "      <th></th>\n",
       "      <th>roc_auc</th>\n",
       "      <th>Cs</th>\n",
       "    </tr>\n",
       "  </thead>\n",
       "  <tbody>\n",
       "    <tr>\n",
       "      <th>11</th>\n",
       "      <td>0.938318</td>\n",
       "      <td>{'C': 100.0, 'penalty': 'l2'}</td>\n",
       "    </tr>\n",
       "    <tr>\n",
       "      <th>10</th>\n",
       "      <td>0.937196</td>\n",
       "      <td>{'C': 100.0, 'penalty': 'l1'}</td>\n",
       "    </tr>\n",
       "    <tr>\n",
       "      <th>9</th>\n",
       "      <td>0.933458</td>\n",
       "      <td>{'C': 10.0, 'penalty': 'l2'}</td>\n",
       "    </tr>\n",
       "    <tr>\n",
       "      <th>8</th>\n",
       "      <td>0.933084</td>\n",
       "      <td>{'C': 10.0, 'penalty': 'l1'}</td>\n",
       "    </tr>\n",
       "    <tr>\n",
       "      <th>7</th>\n",
       "      <td>0.908411</td>\n",
       "      <td>{'C': 1, 'penalty': 'l2'}</td>\n",
       "    </tr>\n",
       "    <tr>\n",
       "      <th>6</th>\n",
       "      <td>0.874019</td>\n",
       "      <td>{'C': 1, 'penalty': 'l1'}</td>\n",
       "    </tr>\n",
       "    <tr>\n",
       "      <th>5</th>\n",
       "      <td>0.851963</td>\n",
       "      <td>{'C': 0.1, 'penalty': 'l2'}</td>\n",
       "    </tr>\n",
       "    <tr>\n",
       "      <th>3</th>\n",
       "      <td>0.805607</td>\n",
       "      <td>{'C': 0.01, 'penalty': 'l2'}</td>\n",
       "    </tr>\n",
       "    <tr>\n",
       "      <th>1</th>\n",
       "      <td>0.741682</td>\n",
       "      <td>{'C': 0.001, 'penalty': 'l2'}</td>\n",
       "    </tr>\n",
       "    <tr>\n",
       "      <th>4</th>\n",
       "      <td>0.409346</td>\n",
       "      <td>{'C': 0.1, 'penalty': 'l1'}</td>\n",
       "    </tr>\n",
       "    <tr>\n",
       "      <th>0</th>\n",
       "      <td>0.200000</td>\n",
       "      <td>{'C': 0.001, 'penalty': 'l1'}</td>\n",
       "    </tr>\n",
       "    <tr>\n",
       "      <th>2</th>\n",
       "      <td>0.200000</td>\n",
       "      <td>{'C': 0.01, 'penalty': 'l1'}</td>\n",
       "    </tr>\n",
       "  </tbody>\n",
       "</table>\n",
       "</div>"
      ],
      "text/plain": [
       "     roc_auc                             Cs\n",
       "11  0.938318  {'C': 100.0, 'penalty': 'l2'}\n",
       "10  0.937196  {'C': 100.0, 'penalty': 'l1'}\n",
       "9   0.933458   {'C': 10.0, 'penalty': 'l2'}\n",
       "8   0.933084   {'C': 10.0, 'penalty': 'l1'}\n",
       "7   0.908411      {'C': 1, 'penalty': 'l2'}\n",
       "6   0.874019      {'C': 1, 'penalty': 'l1'}\n",
       "5   0.851963    {'C': 0.1, 'penalty': 'l2'}\n",
       "3   0.805607   {'C': 0.01, 'penalty': 'l2'}\n",
       "1   0.741682  {'C': 0.001, 'penalty': 'l2'}\n",
       "4   0.409346    {'C': 0.1, 'penalty': 'l1'}\n",
       "0   0.200000  {'C': 0.001, 'penalty': 'l1'}\n",
       "2   0.200000   {'C': 0.01, 'penalty': 'l1'}"
      ]
     },
     "execution_count": 229,
     "metadata": {},
     "output_type": "execute_result"
    }
   ],
   "source": [
    "df_logistic = pd.DataFrame(scores, columns = ['roc_auc'])\n",
    "df_logistic['Cs'] = parameters\n",
    "df_logistic.sort_values(by=['roc_auc'], ascending=False)[:5]"
   ]
  },
  {
   "cell_type": "markdown",
   "metadata": {},
   "source": [
    "## Validation on The Test Set"
   ]
  },
  {
   "cell_type": "code",
   "execution_count": 234,
   "metadata": {},
   "outputs": [],
   "source": [
    "logistic_over = OneVsRestClassifier(LogisticRegression(C=100, penalty = 'l2'))\n",
    "logistic_over.fit(X_train_tfidf_over, y_train_balanced_over_encoded)\n",
    "logistic_pred = logistic_over.predict(X_test_tfidf_over)"
   ]
  },
  {
   "cell_type": "code",
   "execution_count": null,
   "metadata": {},
   "outputs": [],
   "source": [
    "model_report(y_test_encoded, logistic_pred, 5)"
   ]
  },
  {
   "cell_type": "markdown",
   "metadata": {},
   "source": [
    "## SVC"
   ]
  },
  {
   "cell_type": "code",
   "execution_count": 313,
   "metadata": {},
   "outputs": [],
   "source": [
    "from sklearn.svm import SVC\n",
    "\n",
    "param_grid = {'C': [1e-3, 1e-2, 1e-1, 1, 1e1, 20, 1e2, 1e3,1e4 ],\n",
    "             'gamma': [1e-3, 1e-2, 1e-1, 1, 'auto']}\n",
    "\n",
    "grid = ParameterGrid(param_grid)\n",
    "parameters = []\n",
    "scores = []\n",
    "\n",
    "for params in grid:\n",
    "    svc = OneVsRestClassifier(SVC(**params))\n",
    "    score = cross_val_score(svc , X_train_binarized_vocab_over, y_train_balanced_over_encoded, cv = 5)\n",
    "    mean_score = score.mean()\n",
    "    parameters.append(params)\n",
    "    scores.append(mean_score)\n"
   ]
  },
  {
   "cell_type": "code",
   "execution_count": 318,
   "metadata": {},
   "outputs": [
    {
     "data": {
      "text/html": [
       "<div>\n",
       "<style scoped>\n",
       "    .dataframe tbody tr th:only-of-type {\n",
       "        vertical-align: middle;\n",
       "    }\n",
       "\n",
       "    .dataframe tbody tr th {\n",
       "        vertical-align: top;\n",
       "    }\n",
       "\n",
       "    .dataframe thead th {\n",
       "        text-align: right;\n",
       "    }\n",
       "</style>\n",
       "<table border=\"1\" class=\"dataframe\">\n",
       "  <thead>\n",
       "    <tr style=\"text-align: right;\">\n",
       "      <th></th>\n",
       "      <th>roc_auc</th>\n",
       "      <th>params</th>\n",
       "    </tr>\n",
       "  </thead>\n",
       "  <tbody>\n",
       "    <tr>\n",
       "      <th>18</th>\n",
       "      <td>0.875888</td>\n",
       "      <td>{'C': 1, 'gamma': 1}</td>\n",
       "    </tr>\n",
       "    <tr>\n",
       "      <th>38</th>\n",
       "      <td>0.874393</td>\n",
       "      <td>{'C': 1000.0, 'gamma': 1}</td>\n",
       "    </tr>\n",
       "    <tr>\n",
       "      <th>28</th>\n",
       "      <td>0.874019</td>\n",
       "      <td>{'C': 20, 'gamma': 1}</td>\n",
       "    </tr>\n",
       "    <tr>\n",
       "      <th>43</th>\n",
       "      <td>0.872150</td>\n",
       "      <td>{'C': 10000.0, 'gamma': 1}</td>\n",
       "    </tr>\n",
       "    <tr>\n",
       "      <th>33</th>\n",
       "      <td>0.872150</td>\n",
       "      <td>{'C': 100.0, 'gamma': 1}</td>\n",
       "    </tr>\n",
       "  </tbody>\n",
       "</table>\n",
       "</div>"
      ],
      "text/plain": [
       "     roc_auc                      params\n",
       "18  0.875888        {'C': 1, 'gamma': 1}\n",
       "38  0.874393   {'C': 1000.0, 'gamma': 1}\n",
       "28  0.874019       {'C': 20, 'gamma': 1}\n",
       "43  0.872150  {'C': 10000.0, 'gamma': 1}\n",
       "33  0.872150    {'C': 100.0, 'gamma': 1}"
      ]
     },
     "execution_count": 318,
     "metadata": {},
     "output_type": "execute_result"
    }
   ],
   "source": [
    "df_svc = pd.DataFrame(scores, columns = ['roc_auc'])\n",
    "df_svc['params'] = parameters\n",
    "df_svc.sort_values(by=['roc_auc'], ascending=False)[:5]"
   ]
  },
  {
   "cell_type": "markdown",
   "metadata": {},
   "source": [
    "## Validation On The Test Set"
   ]
  },
  {
   "cell_type": "code",
   "execution_count": 316,
   "metadata": {},
   "outputs": [],
   "source": [
    "svc_over = OneVsRestClassifier(SVC(C=1, gamma=1))\n",
    "svc_over.fit(X_train_tfidf_over, y_train_balanced_over_encoded)\n",
    "svc_pred = logistic_over.predict(X_test_tfidf_over)"
   ]
  },
  {
   "cell_type": "code",
   "execution_count": 325,
   "metadata": {},
   "outputs": [
    {
     "name": "stdout",
     "output_type": "stream",
     "text": [
      "Macro Roc_Auc:  0.7159811519226306\n",
      "Micro Roc_Auc:  0.801868556701031\n",
      "Weighted Roc_Auc:  0.7159811519226306\n"
     ]
    },
    {
     "data": {
      "image/png": "[encoded data removed]",
      "text/plain": [
       "<Figure size 720x504 with 1 Axes>"
      ]
     },
     "metadata": {
      "needs_background": "light"
     },
     "output_type": "display_data"
    },
    {
     "name": "stdout",
     "output_type": "stream",
     "text": [
      "Confusion Matrix: \n",
      " [[ 11   0   1   7   6]\n",
      " [  0   3   0   4   1]\n",
      " [  1   0   5  15   6]\n",
      " [  4   0  10 180  27]\n",
      " [  2   3   1  35  66]]\n"
     ]
    }
   ],
   "source": [
    "model_report(y_test_encoded, svc_pred, 5)"
   ]
  },
  {
   "cell_type": "code",
   "execution_count": 323,
   "metadata": {},
   "outputs": [
    {
     "data": {
      "text/plain": [
       "array([[ 11,   0,   1,   7,   6],\n",
       "       [  0,   3,   0,   4,   1],\n",
       "       [  1,   0,   5,  15,   6],\n",
       "       [  4,   0,  10, 180,  27],\n",
       "       [  2,   3,   1,  35,  66]])"
      ]
     },
     "execution_count": 323,
     "metadata": {},
     "output_type": "execute_result"
    }
   ],
   "source": [
    "confusion_matrix(y_test_encoded, svc_pred)"
   ]
  },
  {
   "cell_type": "markdown",
   "metadata": {},
   "source": [
    "# Random Forest Classifier"
   ]
  },
  {
   "cell_type": "markdown",
   "metadata": {},
   "source": [
    "To tackle class imabalance, we will use the follwing strategy: hyperparameter 'class_weight' = 'balanced' that comes handy for the random forest.\n"
   ]
  },
  {
   "cell_type": "code",
   "execution_count": 307,
   "metadata": {},
   "outputs": [
    {
     "data": {
      "text/plain": [
       "GridSearchCV(cv=5, error_score='raise-deprecating',\n",
       "       estimator=RandomForestClassifier(bootstrap=True, class_weight='balanced',\n",
       "            criterion='gini', max_depth=None, max_features='auto',\n",
       "            max_leaf_nodes=None, min_impurity_decrease=0.0,\n",
       "            min_impurity_split=None, min_samples_leaf=1,\n",
       "            min_samples_split=2, min_weight_fraction_leaf=0.0,\n",
       "            n_estimators='warn', n_jobs=-1, oob_score=False,\n",
       "            random_state=None, verbose=0, warm_start=False),\n",
       "       fit_params=None, iid='warn', n_jobs=-1,\n",
       "       param_grid=[{'n_estimators': [100, 500, 700, 1000, 1200], 'max_depth': [5, 8, 12, 20, 30, 50, 70, 100, 120, 150]}],\n",
       "       pre_dispatch='2*n_jobs', refit=True, return_train_score='warn',\n",
       "       scoring=make_scorer(multiclass_roc_auc_score), verbose=0)"
      ]
     },
     "execution_count": 307,
     "metadata": {},
     "output_type": "execute_result"
    }
   ],
   "source": [
    "param_grid_rfc = [\n",
    "                {'n_estimators': [100, 500, 700, 1000, 1200],\n",
    "                'max_depth': [5, 8, 12, 20, 30, 50, 70, 100, 120, 150]}\n",
    "                ]\n",
    "rfc = RandomForestClassifier(n_jobs = -1, class_weight='balanced')\n",
    "\n",
    "grid_search_rfc = GridSearchCV(rfc, param_grid_rfc, cv =5,\n",
    "                          scoring= my_scorer, verbose=0,\n",
    "                          n_jobs = -1)\n",
    "\n",
    "grid_search_rfc.fit(X_train_tfidf_reg, y_train_encoded)"
   ]
  },
  {
   "cell_type": "code",
   "execution_count": 308,
   "metadata": {},
   "outputs": [
    {
     "name": "stdout",
     "output_type": "stream",
     "text": [
      "Best score 0.7026687396649602\n",
      "Best parameters {'max_depth': 50, 'n_estimators': 1000}\n"
     ]
    }
   ],
   "source": [
    "print('Best score', grid_search_rfc.best_score_)\n",
    "print('Best parameters', grid_search_rfc.best_params_)"
   ]
  },
  {
   "cell_type": "code",
   "execution_count": null,
   "metadata": {},
   "outputs": [],
   "source": [
    "param_grid_rfc = [\n",
    "    {'max_features': ['auto', 'sqrt'],\n",
    "    'min_samples_split': [2, 5, 10],\n",
    "    'min_samples_leaf': [1, 2, 4],\n",
    "    'bootstrap': [True, False]}\n",
    "]\n",
    "rfc = RandomForestClassifier(n_jobs = -1, class_weight='balanced', max_depth = , n_estimators = )\n",
    "\n",
    "grid_search_rfc_one = GridSearchCV(rfc, param_grid_rfc, cv =5,\n",
    "                          scoring= my_scorer, verbose=0,\n",
    "                          n_jobs = -1)\n",
    "\n",
    "grid_search_rfc_one.fit(X_train_tfidf_reg, y_train_encoded)"
   ]
  },
  {
   "cell_type": "code",
   "execution_count": null,
   "metadata": {},
   "outputs": [],
   "source": [
    "print('Best score', grid_search_rfc_one.best_score_)\n",
    "print('Best parameters', grid_search_rfc_one.best_params_)"
   ]
  },
  {
   "cell_type": "markdown",
   "metadata": {},
   "source": [
    "## Test Set Evaluation"
   ]
  },
  {
   "cell_type": "code",
   "execution_count": 309,
   "metadata": {},
   "outputs": [],
   "source": [
    "rfc_final = RandomForestClassifier(n_jobs = -1, \n",
    "                                   class_weight='balanced', \n",
    "                                   n_estimators = 1000, \n",
    "                                   max_depth = 50)\n",
    "\n",
    "rfc_final.fit(X_train_tfidf_reg, y_train_encoded)\n",
    "y_pred_rfc = rfc_final.predict(X_test_tfidf_reg)\n"
   ]
  },
  {
   "cell_type": "code",
   "execution_count": null,
   "metadata": {},
   "outputs": [],
   "source": [
    "model_report(y_test_encoded, y_pred_rfc, 5)"
   ]
  },
  {
   "cell_type": "markdown",
   "metadata": {},
   "source": [
    "## Random Forest with Oversampling"
   ]
  },
  {
   "cell_type": "code",
   "execution_count": 132,
   "metadata": {},
   "outputs": [
    {
     "data": {
      "text/plain": [
       "GridSearchCV(cv=5, error_score='raise-deprecating',\n",
       "       estimator=RandomForestClassifier(bootstrap=True, class_weight=None, criterion='gini',\n",
       "            max_depth=None, max_features='auto', max_leaf_nodes=None,\n",
       "            min_impurity_decrease=0.0, min_impurity_split=None,\n",
       "            min_samples_leaf=1, min_samples_split=2,\n",
       "            min_weight_fraction_leaf=0.0, n_estimators='warn', n_jobs=-1,\n",
       "            oob_score=False, random_state=None, verbose=0,\n",
       "            warm_start=False),\n",
       "       fit_params=None, iid='warn', n_jobs=-1,\n",
       "       param_grid=[{'n_estimators': [100, 500, 700, 1000, 1200], 'max_depth': [5, 8, 12, 20, 30, 50, 70, 100, 120, 150]}],\n",
       "       pre_dispatch='2*n_jobs', refit=True, return_train_score='warn',\n",
       "       scoring=make_scorer(multiclass_roc_auc_score), verbose=0)"
      ]
     },
     "execution_count": 132,
     "metadata": {},
     "output_type": "execute_result"
    }
   ],
   "source": [
    "param_grid_rfc = [\n",
    "    {'n_estimators': [100, 500, 700, 1000, 1200],\n",
    "    'max_depth': [5, 8, 12, 20, 30, 50, 70, 100, 120, 150, 170, 180]}\n",
    "]\n",
    "rfc = RandomForestClassifier(n_jobs = -1)\n",
    "\n",
    "grid_search_rfc = GridSearchCV(rfc, param_grid_rfc, cv =5,\n",
    "                          scoring= my_scorer, verbose=0,\n",
    "                          n_jobs = -1)\n",
    "\n",
    "grid_search_rfc.fit(X_train_tfidf_over, y_train_balanced_over_encoded)"
   ]
  },
  {
   "cell_type": "code",
   "execution_count": 133,
   "metadata": {},
   "outputs": [
    {
     "name": "stdout",
     "output_type": "stream",
     "text": [
      "Best score 0.9698598130841122\n",
      "Best parameters {'max_depth': 150, 'n_estimators': 500}\n"
     ]
    }
   ],
   "source": [
    "print('Best score', grid_search_rfc.best_score_)\n",
    "print('Best parameters', grid_search_rfc.best_params_)"
   ]
  },
  {
   "cell_type": "code",
   "execution_count": null,
   "metadata": {},
   "outputs": [],
   "source": [
    "param_grid_rfc = [\n",
    "    {'max_features': ['auto', 'sqrt'],\n",
    "    'min_samples_split': [2, 5, 10],\n",
    "    'min_samples_leaf': [1, 2, 4],\n",
    "    'bootstrap': [True, False]}\n",
    "]\n",
    "rfc = RandomForestClassifier(n_jobs = -1, max_depth = , n_estimators = )\n",
    "\n",
    "grid_search_rfc_one = GridSearchCV(rfc, param_grid_rfc, cv =5,\n",
    "                          scoring= my_scorer, verbose=0,\n",
    "                          n_jobs = -1)\n",
    "\n",
    "grid_search_rfc_one.fit(X_train_tfidf_over, y_train_balanced_over_encoded)"
   ]
  },
  {
   "cell_type": "code",
   "execution_count": null,
   "metadata": {},
   "outputs": [],
   "source": [
    "print('Best score', grid_search_rfc_one.best_score_)\n",
    "print('Best parameters', grid_search_rfc_one.best_params_)"
   ]
  },
  {
   "cell_type": "code",
   "execution_count": 165,
   "metadata": {},
   "outputs": [],
   "source": [
    "rfc_final = RandomForestClassifier(n_jobs = -1,  \n",
    "                                   n_estimators = 500, \n",
    "                                   max_depth = 150)\n",
    "\n",
    "rfc_final.fit(X_train_tfidf_over, y_train_balanced_over_encoded)\n",
    "y_pred_rfc = rfc_final.predict(X_test_tfidf_over)"
   ]
  },
  {
   "cell_type": "code",
   "execution_count": null,
   "metadata": {},
   "outputs": [],
   "source": [
    "model_report(y_test_encoded, y_pred_rfc, 5)"
   ]
  },
  {
   "cell_type": "markdown",
   "metadata": {},
   "source": [
    "## Boosting With Oversampling"
   ]
  },
  {
   "cell_type": "markdown",
   "metadata": {},
   "source": [
    "Another viable option to tackle class imbalance is to use an algorithm that imblements boosting, e.g. XGBoosting which is ten times faster than sklearn gradient boosting."
   ]
  },
  {
   "cell_type": "code",
   "execution_count": 154,
   "metadata": {},
   "outputs": [
    {
     "data": {
      "text/plain": [
       "GridSearchCV(cv=5, error_score='raise-deprecating',\n",
       "       estimator=XGBClassifier(base_score=0.5, booster='gbtree', colsample_bylevel=1,\n",
       "       colsample_bytree=1, gamma=0, learning_rate=0.1, max_delta_step=0,\n",
       "       max_depth=3, min_child_weight=1, missing=None, n_estimators=100,\n",
       "       n_jobs=-1, nthread=None, objective='binary:logistic',\n",
       "       random_state=0, reg_alpha=0, reg_lambda=1, scale_pos_weight=1,\n",
       "       seed=None, silent=True, subsample=1),\n",
       "       fit_params=None, iid='warn', n_jobs=-1,\n",
       "       param_grid=[{'n_estimators': [100, 500, 700], 'max_depth': [2, 4, 6, 8]}],\n",
       "       pre_dispatch='2*n_jobs', refit=True, return_train_score='warn',\n",
       "       scoring=make_scorer(multiclass_roc_auc_score), verbose=0)"
      ]
     },
     "execution_count": 154,
     "metadata": {},
     "output_type": "execute_result"
    }
   ],
   "source": [
    "\n",
    "param_grid_xgb = [\n",
    "    {'n_estimators': [100, 500, 700],\n",
    "    'max_depth': [2, 4, 6, 8]\n",
    "    }\n",
    "]\n",
    "xgb = XGBClassifier(n_jobs = -1)\n",
    "\n",
    "grid_search_xgb = GridSearchCV(xgb, param_grid_xgb, cv =5,\n",
    "                          scoring= my_scorer, verbose=0,\n",
    "                          n_jobs = -1)\n",
    "\n",
    "grid_search_xgb.fit(X_train_tfidf_over, y_train_balanced_over_encoded)"
   ]
  },
  {
   "cell_type": "code",
   "execution_count": 156,
   "metadata": {},
   "outputs": [
    {
     "name": "stdout",
     "output_type": "stream",
     "text": [
      "Best score 0.9654205607476636\n",
      "Best parameters {'max_depth': 8, 'n_estimators': 700}\n"
     ]
    }
   ],
   "source": [
    "print('Best score', grid_search_xgb.best_score_)\n",
    "print('Best parameters', grid_search_xgb.best_params_)"
   ]
  },
  {
   "cell_type": "code",
   "execution_count": 157,
   "metadata": {},
   "outputs": [
    {
     "data": {
      "text/plain": [
       "GridSearchCV(cv=5, error_score='raise-deprecating',\n",
       "       estimator=XGBClassifier(base_score=0.5, booster='gbtree', colsample_bylevel=1,\n",
       "       colsample_bytree=1, gamma=0, learning_rate=0.1, max_delta_step=0,\n",
       "       max_depth=8, min_child_weight=1, missing=None, n_estimators=700,\n",
       "       n_jobs=-1, nthread=None, objective='binary:logistic',\n",
       "       random_state=0, reg_alpha=0, reg_lambda=1, scale_pos_weight=1,\n",
       "       seed=None, silent=True, subsample=1),\n",
       "       fit_params=None, iid='warn', n_jobs=-1,\n",
       "       param_grid=[{'learning_rate': [0.001, 0.5, 0.1], 'subsample': [0.25, 0.5, 1]}],\n",
       "       pre_dispatch='2*n_jobs', refit=True, return_train_score='warn',\n",
       "       scoring=make_scorer(multiclass_roc_auc_score), verbose=0)"
      ]
     },
     "execution_count": 157,
     "metadata": {},
     "output_type": "execute_result"
    }
   ],
   "source": [
    "param_grid_xgb_one = [\n",
    "    {'learning_rate': [1e-3, 0.5, 0.1],\n",
    "     'subsample': [0.25, 0.5, 1]\n",
    "    }\n",
    "]\n",
    "xgb = XGBClassifier(n_jobs = -1, max_depth= 8, n_estimators=700)\n",
    "\n",
    "grid_search_xgb_one = GridSearchCV(xgb, param_grid_xgb_one, cv =5,\n",
    "                          scoring= my_scorer, verbose=0,\n",
    "                          n_jobs = -1)\n",
    "\n",
    "grid_search_xgb_one.fit(X_train_tfidf_over, y_train_balanced_over_encoded)"
   ]
  },
  {
   "cell_type": "code",
   "execution_count": 158,
   "metadata": {},
   "outputs": [
    {
     "name": "stdout",
     "output_type": "stream",
     "text": [
      "Best score 0.9654205607476636\n",
      "Best parameters {'learning_rate': 0.1, 'subsample': 1}\n"
     ]
    }
   ],
   "source": [
    "print('Best score', grid_search_xgb_one.best_score_)\n",
    "print('Best parameters', grid_search_xgb_one.best_params_)"
   ]
  },
  {
   "cell_type": "markdown",
   "metadata": {},
   "source": [
    "## Test Set Validation"
   ]
  },
  {
   "cell_type": "code",
   "execution_count": 159,
   "metadata": {},
   "outputs": [],
   "source": [
    "xgb_final = XGBClassifier(n_jobs = -1, \n",
    "                          max_depth= 8, \n",
    "                          n_estimators = 700, \n",
    "                          subsample= 1,\n",
    "                         learning_rate=0.1)\n",
    "\n",
    "xgb_final.fit(X_train_tfidf_over, y_train_balanced_over_encoded)\n",
    "y_pred_xgb = xgb_final.predict(X_test_tfidf_over)"
   ]
  },
  {
   "cell_type": "code",
   "execution_count": null,
   "metadata": {},
   "outputs": [],
   "source": [
    "model_report(y_test_encoded, y_pred_xgb, 5)"
   ]
  },
  {
   "cell_type": "markdown",
   "metadata": {},
   "source": [
    "## Latent Semantic Components"
   ]
  },
  {
   "cell_type": "code",
   "execution_count": 326,
   "metadata": {},
   "outputs": [],
   "source": [
    "from sklearn.decomposition import TruncatedSVD\n",
    "from sklearn.pipeline import make_pipeline\n",
    "from sklearn.preprocessing import Normalizer"
   ]
  },
  {
   "cell_type": "code",
   "execution_count": 339,
   "metadata": {},
   "outputs": [
    {
     "name": "stdout",
     "output_type": "stream",
     "text": [
      "Variance captured by all components: 0.99\n"
     ]
    }
   ],
   "source": [
    "svd= TruncatedSVD(500)\n",
    "\n",
    "#make a pipeline with svd and normalizer\n",
    "lsa = make_pipeline(svd, Normalizer(copy=False))\n",
    "\n",
    "\n",
    "X_train_lsa = lsa.fit_transform(X_train_tfidf_over)\n",
    "\n",
    "\n",
    "variance_explained=svd.explained_variance_ratio_\n",
    "total_variance = variance_explained.sum()\n",
    "\n",
    "print(\"Variance captured by all components:\", \"%.2f\" %total_variance)"
   ]
  },
  {
   "cell_type": "code",
   "execution_count": 340,
   "metadata": {},
   "outputs": [],
   "source": [
    "X_test_lsa = lsa.transform(X_test_tfidf_over)"
   ]
  },
  {
   "cell_type": "code",
   "execution_count": 331,
   "metadata": {},
   "outputs": [
    {
     "data": {
      "text/plain": [
       "GridSearchCV(cv=5, error_score='raise-deprecating',\n",
       "       estimator=RandomForestClassifier(bootstrap=True, class_weight=None, criterion='gini',\n",
       "            max_depth=None, max_features='auto', max_leaf_nodes=None,\n",
       "            min_impurity_decrease=0.0, min_impurity_split=None,\n",
       "            min_samples_leaf=1, min_samples_split=2,\n",
       "            min_weight_fraction_leaf=0.0, n_estimators='warn', n_jobs=-1,\n",
       "            oob_score=False, random_state=None, verbose=0,\n",
       "            warm_start=False),\n",
       "       fit_params=None, iid='warn', n_jobs=-1,\n",
       "       param_grid=[{'n_estimators': [100, 500, 700, 1000, 1200], 'max_depth': [5, 8, 12, 20, 30, 50, 70, 100, 120, 150]}],\n",
       "       pre_dispatch='2*n_jobs', refit=True, return_train_score='warn',\n",
       "       scoring=make_scorer(multiclass_roc_auc_score), verbose=0)"
      ]
     },
     "execution_count": 331,
     "metadata": {},
     "output_type": "execute_result"
    }
   ],
   "source": [
    "param_grid_rfc = [\n",
    "    {'n_estimators': [100, 500, 700, 1000, 1200],\n",
    "    'max_depth': [5, 8, 12, 20, 30, 50, 70, 100, 120, 150]}\n",
    "]\n",
    "rfc = RandomForestClassifier(n_jobs = -1)\n",
    "\n",
    "grid_search_rfc = GridSearchCV(rfc, param_grid_rfc, cv =5,\n",
    "                          scoring= my_scorer, verbose=0,\n",
    "                          n_jobs = -1)\n",
    "\n",
    "grid_search_rfc.fit(X_train_lsa, y_train_balanced_over_encoded)"
   ]
  },
  {
   "cell_type": "code",
   "execution_count": 363,
   "metadata": {},
   "outputs": [
    {
     "name": "stdout",
     "output_type": "stream",
     "text": [
      "Best score 0.9789719626168224\n",
      "Best parameters {'max_depth': 30, 'n_estimators': 700}\n"
     ]
    }
   ],
   "source": [
    "print('Best score', grid_search_rfc.best_score_)\n",
    "print('Best parameters', grid_search_rfc.best_params_)"
   ]
  },
  {
   "cell_type": "markdown",
   "metadata": {},
   "source": [
    "## Test Set Evaluation"
   ]
  },
  {
   "cell_type": "code",
   "execution_count": 364,
   "metadata": {},
   "outputs": [],
   "source": [
    "rfc_final = RandomForestClassifier(n_jobs = -1, \n",
    "                                   n_estimators = 700, \n",
    "                                   max_depth = 30)\n",
    "\n",
    "rfc_final.fit(X_train_lsa, y_train_balanced_over_encoded)\n",
    "y_pred_rfc = rfc_final.predict(X_test_lsa)"
   ]
  },
  {
   "cell_type": "code",
   "execution_count": 365,
   "metadata": {},
   "outputs": [
    {
     "name": "stdout",
     "output_type": "stream",
     "text": [
      "Macro Roc_Auc:  0.6210896564624772\n",
      "Micro Roc_Auc:  0.7873711340206184\n",
      "Weighted Roc_Auc:  0.6210896564624772\n"
     ]
    },
    {
     "data": {
      "image/png": "[encoded data removed]",
      "text/plain": [
       "<Figure size 720x504 with 1 Axes>"
      ]
     },
     "metadata": {
      "needs_background": "light"
     },
     "output_type": "display_data"
    },
    {
     "name": "stdout",
     "output_type": "stream",
     "text": [
      "Confusion Matrix: \n",
      " [[  5   0   0  19   1]\n",
      " [  0   3   0   5   0]\n",
      " [  0   0   2  22   3]\n",
      " [  0   0   1 216   4]\n",
      " [  1   2   0  74  30]]\n"
     ]
    }
   ],
   "source": [
    "model_report(y_test_encoded, y_pred_rfc, 5)"
   ]
  },
  {
   "cell_type": "markdown",
   "metadata": {},
   "source": [
    "## Part II. Noise In The Data"
   ]
  },
  {
   "cell_type": "markdown",
   "metadata": {},
   "source": [
    "Insertion, change or deletion of 1-3 letters in words (10% of the data)."
   ]
  },
  {
   "cell_type": "code",
   "execution_count": 400,
   "metadata": {},
   "outputs": [],
   "source": [
    "import random\n",
    "import string"
   ]
  },
  {
   "cell_type": "code",
   "execution_count": 367,
   "metadata": {},
   "outputs": [],
   "source": [
    "def random_char(number):\n",
    "       return ''.join(random.choice(string.ascii_letters) for x in range(number))\n"
   ]
  },
  {
   "cell_type": "code",
   "execution_count": 368,
   "metadata": {},
   "outputs": [],
   "source": [
    "def random_generator(number, max_num):\n",
    "    random_generated = []\n",
    "    for num in range(number):\n",
    "        rand_num = random.randint(1, max_num)\n",
    "        random_generated.append(rand_num)\n",
    "    return random_generated"
   ]
  },
  {
   "cell_type": "code",
   "execution_count": 404,
   "metadata": {},
   "outputs": [],
   "source": [
    "def noiser(data):\n",
    "    words = []\n",
    "    for entry in data:\n",
    "        entry_parsed = nlp(entry)\n",
    "        string = ''\n",
    "        # to know how many words in a sentence will be noisy\n",
    "        \n",
    "        # to make sure that at least one word is altered in each sentence regardless of its length\n",
    "        how_many_words = np.amax([1, round(len(entry_parsed)*0.1)])\n",
    "        how_many_letters = random.randint(1, 3)\n",
    "        \n",
    "        #one for insertion, two for replacement, three for deletion\n",
    "        which_method = random.randint(1, 3)\n",
    "       \n",
    "        rand_numbers = random_generator(how_many_words, len(entry_parsed))\n",
    "        for num, token in enumerate(entry_parsed):\n",
    "            str_token = str(token)\n",
    "            if num in rand_numbers:\n",
    "                cutoff = random.randint(1, len(token))\n",
    "                #insertion of random letters\n",
    "                if which_method ==1:\n",
    "                    str_token = str_token[:int(cutoff)] + random_char(how_many_letters)+ str_token[cutoff:] \n",
    "\n",
    "                #replacement of random letters    \n",
    "                elif which_method == 2:\n",
    "                    str_token = str_token[:cutoff] + random_char(how_many_letters)+ str_token[cutoff+how_many_letters:] \n",
    "\n",
    "                #deletion of random letters\n",
    "                elif which_method == 3:\n",
    "                    str_token = str_token[:cutoff] + str_token[cutoff+how_many_letters:]\n",
    "            string += str_token + ' '\n",
    "            string = string.replace('-', '')\n",
    "\n",
    "\n",
    "        words.append(string.rstrip())\n",
    "    return words"
   ]
  },
  {
   "cell_type": "markdown",
   "metadata": {},
   "source": [
    "## Creation of A Noisy Data Set"
   ]
  },
  {
   "cell_type": "code",
   "execution_count": 406,
   "metadata": {},
   "outputs": [],
   "source": [
    "X_train_noised = noiser(X_train)"
   ]
  },
  {
   "cell_type": "code",
   "execution_count": 407,
   "metadata": {},
   "outputs": [],
   "source": [
    "X_test_noised = noiser(X_test)"
   ]
  },
  {
   "cell_type": "code",
   "execution_count": 439,
   "metadata": {},
   "outputs": [],
   "source": [
    "X_train_processed_noised = processor(X_train_noised, lemmatize=False)"
   ]
  },
  {
   "cell_type": "code",
   "execution_count": 440,
   "metadata": {},
   "outputs": [],
   "source": [
    "X_test_processed_noised = processor(X_test_noised, lemmatize=False)"
   ]
  },
  {
   "cell_type": "code",
   "execution_count": 441,
   "metadata": {},
   "outputs": [
    {
     "data": {
      "text/plain": [
       "['Importantly rl IAPP rodent species rat mouse IAPP lose capacities oJP aNRregating amyloid fibrils CITATION transgenic mouse models thiD express human IAPP develop islet deposits CITATION',\n",
       " 'It obvious proofs paper bGe conditionalized',\n",
       " 'case low likelod slope expected weakly positive',\n",
       " 'Furthermore converted aRTk mathematical model usewkg quantitatively integrate gXrV expression data reaction constraints compute functional network states wJZkh compared reported experimental data',\n",
       " 'In paper introduce radically new approach based machine learning techniques map thLj ASUvX thgEe Internet natural AS taxonomy']"
      ]
     },
     "execution_count": 441,
     "metadata": {},
     "output_type": "execute_result"
    }
   ],
   "source": [
    "X_train_processed_noised[:5]"
   ]
  },
  {
   "cell_type": "markdown",
   "metadata": {},
   "source": [
    "## Oversampling To Tackle Class Imabalance"
   ]
  },
  {
   "cell_type": "code",
   "execution_count": 442,
   "metadata": {},
   "outputs": [],
   "source": [
    "X_train_concat = pd.DataFrame({'texts': X_train_processed_noised, 'classes': y_train_encoded})"
   ]
  },
  {
   "cell_type": "code",
   "execution_count": 443,
   "metadata": {},
   "outputs": [],
   "source": [
    "X_train_zero = (X_train_concat[X_train_concat['classes']==0]).sample(535, random_state=108, replace=True)\n",
    "X_train_one = (X_train_concat[X_train_concat['classes']==1]).sample(535, random_state=108, replace=True)\n",
    "X_train_two = (X_train_concat[X_train_concat['classes']==2]).sample(535, random_state=108, replace=True)\n",
    "X_train_three = X_train_concat[X_train_concat['classes']==3]\n",
    "X_train_four = (X_train_concat[X_train_concat['classes']==4]).sample(535, random_state=108, replace=True)"
   ]
  },
  {
   "cell_type": "code",
   "execution_count": 444,
   "metadata": {},
   "outputs": [],
   "source": [
    "X_train_balanced_over = pd.concat([X_train_zero\n",
    "                                  ,X_train_one\n",
    "                                  ,X_train_two\n",
    "                                  ,X_train_three \n",
    "                                  ,X_train_four], axis=0, ignore_index=True)"
   ]
  },
  {
   "cell_type": "code",
   "execution_count": 445,
   "metadata": {},
   "outputs": [
    {
     "data": {
      "text/plain": [
       "(2675, 2)"
      ]
     },
     "execution_count": 445,
     "metadata": {},
     "output_type": "execute_result"
    }
   ],
   "source": [
    "X_train_balanced_over.shape"
   ]
  },
  {
   "cell_type": "code",
   "execution_count": 446,
   "metadata": {},
   "outputs": [],
   "source": [
    "#shuffle all classes \n",
    "\n",
    "X_train_balanced_over = X_train_balanced_over.sample(2675)"
   ]
  },
  {
   "cell_type": "code",
   "execution_count": 447,
   "metadata": {},
   "outputs": [
    {
     "data": {
      "text/plain": [
       "(array([0, 1, 2, 3, 4]), array([535, 535, 535, 535, 535]))"
      ]
     },
     "execution_count": 447,
     "metadata": {},
     "output_type": "execute_result"
    }
   ],
   "source": [
    "np.unique(X_train_balanced_over['classes'], return_counts = True)"
   ]
  },
  {
   "cell_type": "code",
   "execution_count": 448,
   "metadata": {},
   "outputs": [],
   "source": [
    "y_train_balanced_over_encoded = X_train_balanced_over['classes']"
   ]
  },
  {
   "cell_type": "code",
   "execution_count": 449,
   "metadata": {},
   "outputs": [],
   "source": [
    "vectorizer_noised = TfidfVectorizer(max_df=0.8, \n",
    "                             min_df=7, \n",
    "                             stop_words='english', \n",
    "                             lowercase=True, \n",
    "                             use_idf=True,\n",
    "                             norm=u'l2',\n",
    "                             smooth_idf=True\n",
    "                            )"
   ]
  },
  {
   "cell_type": "code",
   "execution_count": 450,
   "metadata": {},
   "outputs": [
    {
     "name": "stdout",
     "output_type": "stream",
     "text": [
      "Number of features: 1264\n"
     ]
    }
   ],
   "source": [
    "X_train_tfidf_noised=vectorizer_noised.fit_transform(X_train_balanced_over['texts'])\n",
    "\n",
    "print(\"Number of features: %d\" % X_train_tfidf_noised.get_shape()[1])"
   ]
  },
  {
   "cell_type": "code",
   "execution_count": 451,
   "metadata": {},
   "outputs": [],
   "source": [
    "X_test_tfidf_noised = vectorizer_noised.transform(X_test_noised)"
   ]
  },
  {
   "cell_type": "code",
   "execution_count": 452,
   "metadata": {},
   "outputs": [
    {
     "data": {
      "text/plain": [
       "GridSearchCV(cv=5, error_score='raise-deprecating',\n",
       "       estimator=RandomForestClassifier(bootstrap=True, class_weight=None, criterion='gini',\n",
       "            max_depth=None, max_features='auto', max_leaf_nodes=None,\n",
       "            min_impurity_decrease=0.0, min_impurity_split=None,\n",
       "            min_samples_leaf=1, min_samples_split=2,\n",
       "            min_weight_fraction_leaf=0.0, n_estimators='warn', n_jobs=-1,\n",
       "            oob_score=False, random_state=None, verbose=0,\n",
       "            warm_start=False),\n",
       "       fit_params=None, iid='warn', n_jobs=-1,\n",
       "       param_grid=[{'n_estimators': [100, 500, 700, 1000, 1200], 'max_depth': [5, 8, 12, 20, 30, 50, 70, 100, 120, 150]}],\n",
       "       pre_dispatch='2*n_jobs', refit=True, return_train_score='warn',\n",
       "       scoring=make_scorer(multiclass_roc_auc_score), verbose=0)"
      ]
     },
     "execution_count": 452,
     "metadata": {},
     "output_type": "execute_result"
    }
   ],
   "source": [
    "param_grid_rfc = [\n",
    "    {'n_estimators': [100, 500, 700, 1000, 1200],\n",
    "    'max_depth': [5, 8, 12, 20, 30, 50, 70, 100, 120, 150]}\n",
    "]\n",
    "rfc = RandomForestClassifier(n_jobs = -1)\n",
    "\n",
    "grid_search_rfc = GridSearchCV(rfc, param_grid_rfc, cv =5,\n",
    "                          scoring= my_scorer, verbose=0,\n",
    "                          n_jobs = -1)\n",
    "\n",
    "grid_search_rfc.fit(X_train_tfidf_noised, y_train_balanced_over_encoded)"
   ]
  },
  {
   "cell_type": "code",
   "execution_count": 453,
   "metadata": {},
   "outputs": [
    {
     "name": "stdout",
     "output_type": "stream",
     "text": [
      "Best score 0.9698598130841122\n",
      "Best parameters {'max_depth': 150, 'n_estimators': 1200}\n"
     ]
    }
   ],
   "source": [
    "print('Best score', grid_search_rfc.best_score_)\n",
    "print('Best parameters', grid_search_rfc.best_params_)"
   ]
  },
  {
   "cell_type": "code",
   "execution_count": 454,
   "metadata": {},
   "outputs": [
    {
     "data": {
      "text/plain": [
       "GridSearchCV(cv=5, error_score='raise-deprecating',\n",
       "       estimator=RandomForestClassifier(bootstrap=True, class_weight=None, criterion='gini',\n",
       "            max_depth=150, max_features='auto', max_leaf_nodes=None,\n",
       "            min_impurity_decrease=0.0, min_impurity_split=None,\n",
       "            min_samples_leaf=1, min_samples_split=2,\n",
       "            min_weight_fraction_leaf=0.0, n_estimators=1200, n_jobs=-1,\n",
       "            oob_score=False, random_state=None, verbose=0,\n",
       "            warm_start=False),\n",
       "       fit_params=None, iid='warn', n_jobs=-1,\n",
       "       param_grid=[{'max_features': ['auto', 'sqrt'], 'min_samples_split': [2, 5, 10], 'min_samples_leaf': [1, 2, 4], 'bootstrap': [True, False]}],\n",
       "       pre_dispatch='2*n_jobs', refit=True, return_train_score='warn',\n",
       "       scoring=make_scorer(multiclass_roc_auc_score), verbose=0)"
      ]
     },
     "execution_count": 454,
     "metadata": {},
     "output_type": "execute_result"
    }
   ],
   "source": [
    "param_grid_rfc = [\n",
    "    {'max_features': ['auto', 'sqrt'],\n",
    "    'min_samples_split': [2, 5, 10],\n",
    "    'min_samples_leaf': [1, 2, 4],\n",
    "    'bootstrap': [True, False]}\n",
    "]\n",
    "rfc = RandomForestClassifier(n_jobs = -1, max_depth = 150, n_estimators = 1200)\n",
    "\n",
    "grid_search_rfc_one = GridSearchCV(rfc, param_grid_rfc, cv =5,\n",
    "                          scoring= my_scorer, verbose=0,\n",
    "                          n_jobs = -1)\n",
    "\n",
    "grid_search_rfc_one.fit(X_train_tfidf_noised, y_train_balanced_over_encoded)"
   ]
  },
  {
   "cell_type": "code",
   "execution_count": 455,
   "metadata": {},
   "outputs": [
    {
     "name": "stdout",
     "output_type": "stream",
     "text": [
      "Best score 0.9745327102803738\n",
      "Best parameters {'bootstrap': False, 'max_features': 'sqrt', 'min_samples_leaf': 1, 'min_samples_split': 5}\n"
     ]
    }
   ],
   "source": [
    "print('Best score', grid_search_rfc_one.best_score_)\n",
    "print('Best parameters', grid_search_rfc_one.best_params_)"
   ]
  },
  {
   "cell_type": "markdown",
   "metadata": {},
   "source": [
    "## Test Set Evaluation"
   ]
  },
  {
   "cell_type": "code",
   "execution_count": 456,
   "metadata": {},
   "outputs": [],
   "source": [
    "rfc_final = RandomForestClassifier(n_jobs = -1, \n",
    "                                   n_estimators = 1200, \n",
    "                                   max_depth = 150,\n",
    "                                   bootstrap=False,\n",
    "                                   max_features = 'sqrt',\n",
    "                                   min_samples_leaf = 1,\n",
    "                                   min_samples_split = 5)\n",
    "\n",
    "rfc_final.fit(X_train_tfidf_noised, y_train_balanced_over_encoded)\n",
    "y_pred_rfc = rfc_final.predict(X_test_tfidf_noised)"
   ]
  },
  {
   "cell_type": "code",
   "execution_count": 457,
   "metadata": {},
   "outputs": [
    {
     "name": "stdout",
     "output_type": "stream",
     "text": [
      "Macro Roc_Auc:  0.721748559896454\n",
      "Micro Roc_Auc:  0.8179768041237114\n",
      "Weighted Roc_Auc:  0.721748559896454\n"
     ]
    },
    {
     "data": {
      "image/png": "[encoded data removed]",
      "text/plain": [
       "<Figure size 720x504 with 1 Axes>"
      ]
     },
     "metadata": {
      "needs_background": "light"
     },
     "output_type": "display_data"
    },
    {
     "name": "stdout",
     "output_type": "stream",
     "text": [
      "Confusion Matrix: \n",
      " [[  5   0   0   7  13]\n",
      " [  0   2   0   4   2]\n",
      " [  0   0   2  20   5]\n",
      " [  1   0   2 198  20]\n",
      " [  1   3   0  35  68]]\n"
     ]
    }
   ],
   "source": [
    "model_report(y_test_encoded, y_pred_rfc, 5)"
   ]
  },
  {
   "cell_type": "code",
   "execution_count": null,
   "metadata": {},
   "outputs": [],
   "source": []
  }
 ],
 "metadata": {
  "kernelspec": {
   "display_name": "Python 3",
   "language": "python",
   "name": "python3"
  },
  "language_info": {
   "codemirror_mode": {
    "name": "ipython",
    "version": 3
   },
   "file_extension": ".py",
   "mimetype": "text/x-python",
   "name": "python",
   "nbconvert_exporter": "python",
   "pygments_lexer": "ipython3",
   "version": "3.6.5"
  }
 },
 "nbformat": 4,
 "nbformat_minor": 2
}
